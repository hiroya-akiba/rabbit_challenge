{
 "cells": [
  {
   "cell_type": "markdown",
   "source": [
    "# 準備"
   ],
   "metadata": {
    "id": "Fr35RhCb36q6"
   }
  },
  {
   "cell_type": "markdown",
   "source": [
    "## Google Colab 用の処理\r\n",
    "\r\n",
    "下記を実行します\r\n",
    "- ドライブのマウント\r\n",
    "- ノートブックファイルと同じフォルダへの移動 \r\n",
    "\r\n",
    "Googleドライブのマイドライブ を基準に DNN_code/DNN_code_colab_day4 フォルダを置くことを仮定しています。必要に応じて，パスを変更してください．"
   ],
   "metadata": {
    "id": "LLYLr8oA3_gK"
   }
  },
  {
   "cell_type": "code",
   "execution_count": null,
   "source": [
    "# Google Colab での実行かを調べる\r\n",
    "import sys\r\n",
    "import os\r\n",
    "ENV_COLAB = True  if 'google.colab' in sys.modules else False \r\n",
    "\r\n",
    "# google drive のマウント\r\n",
    "if ENV_COLAB:\r\n",
    "  from google.colab import drive \r\n",
    "  drive.mount('/content/drive')\r\n",
    "  os.chdir('/content/drive/My Drive/DNN_code/DNN_code_colab_day4/notebook/4_10_code_dcgan')"
   ],
   "outputs": [],
   "metadata": {
    "colab": {
     "base_uri": "https://localhost:8080/"
    },
    "executionInfo": {
     "elapsed": 21865,
     "status": "ok",
     "timestamp": 1644835628686,
     "user": {
      "displayName": "Kyosuke Matsumoto",
      "photoUrl": "https://lh3.googleusercontent.com/a-/AOh14GgX9Uhzu8b_104YXb8XaUjaS1gOV5qY3pUOBdSt6myqcoDCbmoAUa-9xEejB79mRmiaz31naV0Jz05uZ2lXajh3lycIMcEF--kljG9adcaCkxoQEZjvbtmwsou6S0JzDephGugEyotn7T7kuN2j25vlRiDKy_CUmxt9CznpyvEFZEWQ1TnV-v2b2-Z_Y7UbtYY9ORioVgaYuOIS0w2oQmUtiYOlNZVBftl5gIwoj0b-G_FCaW4EXVyktQwCJNEcw-sSUW4tPawPEbNcUJ4kgHMMSLqVbbr_cs_76yRtRhEwA0Ra-VHKG6DIqFQpKkuUilgHYYwUfLSnFZX5BljtYDMfrZgG8qczLSD-iIfcfcAhlzZnP_e8S6jKiajRZ-uLaY8WAKQVe-4wSr_8HtoKGacvlEI9mPRmJdgCTJwq1aEQm-AH_-7jnIGQbZG84qmVaWZdBCy_lfnV6_cx3efm7TIH7liHU1YCGH-7ePX_N8QzA2t-WQYq4OMnhnl9Av6pS5ynifLvTUxnsFQ8AL5q9LAFuZH52Y8iJQjnFdE8CUAj3xdCrMHwU0FhYQOAvEIHvP_A2NMQA1YKNm3GbJsopfJMQO77uEzHqJZk1D0d569Oe03dtxsVOqdA4iJqtU-SAoJuL-NPsvWrPHFte9rYt4kkL-Gmr_rjjeO2g9C96Hzkr5Y7Y0m6-PJ6mXjxi1NI8w9ZK_JkiEeZSl-NUpLYWKr0NyDj0ZKJQ5ZkEranD5PzsSdNgMxZFtavEjmRlVHOnkWAbg=s64",
      "userId": "01962885165714747888"
     },
     "user_tz": -540
    },
    "id": "19zGodGt4JEl",
    "outputId": "22f74a6a-3425-406c-a528-24aaffeeeed0"
   }
  },
  {
   "cell_type": "markdown",
   "source": [
    "# DCGAN による画像生成"
   ],
   "metadata": {
    "id": "iaDN2a554Dq9"
   }
  },
  {
   "cell_type": "code",
   "execution_count": null,
   "source": [
    "import glob\n",
    "from pathlib import Path\n",
    "\n",
    "import numpy as np\n",
    "from PIL import Image\n",
    "\n",
    "from model_dcgan import DCGAN\n"
   ],
   "outputs": [],
   "metadata": {
    "executionInfo": {
     "elapsed": 4650,
     "status": "ok",
     "timestamp": 1644835634940,
     "user": {
      "displayName": "Kyosuke Matsumoto",
      "photoUrl": "https://lh3.googleusercontent.com/a-/AOh14GgX9Uhzu8b_104YXb8XaUjaS1gOV5qY3pUOBdSt6myqcoDCbmoAUa-9xEejB79mRmiaz31naV0Jz05uZ2lXajh3lycIMcEF--kljG9adcaCkxoQEZjvbtmwsou6S0JzDephGugEyotn7T7kuN2j25vlRiDKy_CUmxt9CznpyvEFZEWQ1TnV-v2b2-Z_Y7UbtYY9ORioVgaYuOIS0w2oQmUtiYOlNZVBftl5gIwoj0b-G_FCaW4EXVyktQwCJNEcw-sSUW4tPawPEbNcUJ4kgHMMSLqVbbr_cs_76yRtRhEwA0Ra-VHKG6DIqFQpKkuUilgHYYwUfLSnFZX5BljtYDMfrZgG8qczLSD-iIfcfcAhlzZnP_e8S6jKiajRZ-uLaY8WAKQVe-4wSr_8HtoKGacvlEI9mPRmJdgCTJwq1aEQm-AH_-7jnIGQbZG84qmVaWZdBCy_lfnV6_cx3efm7TIH7liHU1YCGH-7ePX_N8QzA2t-WQYq4OMnhnl9Av6pS5ynifLvTUxnsFQ8AL5q9LAFuZH52Y8iJQjnFdE8CUAj3xdCrMHwU0FhYQOAvEIHvP_A2NMQA1YKNm3GbJsopfJMQO77uEzHqJZk1D0d569Oe03dtxsVOqdA4iJqtU-SAoJuL-NPsvWrPHFte9rYt4kkL-Gmr_rjjeO2g9C96Hzkr5Y7Y0m6-PJ6mXjxi1NI8w9ZK_JkiEeZSl-NUpLYWKr0NyDj0ZKJQ5ZkEranD5PzsSdNgMxZFtavEjmRlVHOnkWAbg=s64",
      "userId": "01962885165714747888"
     },
     "user_tz": -540
    },
    "id": "kfXtXsB7iEAg"
   }
  },
  {
   "cell_type": "code",
   "execution_count": null,
   "source": [
    "def convert_img_to_npy(\n",
    "    img_dir=\"./img_data\", cond=\"*.png\", save_path=\"./train_data/train_data\"\n",
    "    ):\n",
    "    \"\"\"画像ファイル群を学習データ用にnumpy形式に変換する関数\n",
    "    学習データが既にあれば実行する必要無し\n",
    "\n",
    "    Args:\n",
    "        img_dir (str): 画像ファイルがあるフォルダ. Defaults to \"./img_data\".\n",
    "        cond (str): 変換する画像の条件. Defaults to \"*.png\".\n",
    "        save_path (str): 変換後の保存先. Defaults to \"./train_data/train_data\".\n",
    "    \"\"\"\n",
    "    dataset = []\n",
    "    img_path = str(Path(img_dir) / cond)\n",
    "    print(\"Loading Image Data from \" + img_dir)\n",
    "    for idx, img_path in enumerate(glob.glob(img_path)):\n",
    "        # (height,width,channels)\n",
    "        img_data = Image.open(img_path)\n",
    "        print(str(idx) + \" data loaded\")\n",
    "        # (1,height,width,channels)\n",
    "        img_data = np.expand_dims(img_data, axis=0)\n",
    "        if idx == 0:\n",
    "            dataset = img_data\n",
    "        else:\n",
    "            dataset = np.concatenate([dataset, img_data], axis=0)\n",
    "        \n",
    "    dataset = (dataset - 127.5) / 127.5\n",
    "    np.save(save_path, dataset)\n",
    "    print(\"Train Data Saved\")\n",
    "\n",
    "convert_img_to_npy()"
   ],
   "outputs": [],
   "metadata": {
    "colab": {
     "base_uri": "https://localhost:8080/",
     "height": 356
    },
    "executionInfo": {
     "elapsed": 437,
     "status": "error",
     "timestamp": 1644819530912,
     "user": {
      "displayName": "Kyosuke Matsumoto",
      "photoUrl": "https://lh3.googleusercontent.com/a-/AOh14GhPJN29RWKSVYmSTKiM9sWebmL92Fy2NQv5vNgdmvN1Jdi3gcDQGXDYktiiPoZ9Hn0j4dyNByGF0ULP745ge_TiVOQcX3SaXfPkicgjMdCyUSUWNZNAMFRjJlm19CSjFR6Tbvsg3kcSzJVfPkG-6UPrkodb_3O2DjwvKv4ZKF6lS7UH6My3jZKFz78nLFZYw3usyyjAxE6Gkp_FWPiUqsMcv5B86nSeCY5cMRF0Y8M3vibPHpDua4_9zthXTlkrwPf1mf7UdbTzhQh6uqCuMW1AKpA2aHqZZvV3_s3MMurtUFUWwaFiSpqL4uyxSLTu940FEPaPZCANBctJUg_1N3_jCn5vLWT1HcVvTX2mJK1WIt81Ji45HbVcQTQwjsMI5_1pDzs9AlxCIWgX2EzibrBEFA3P0NfGVnMyd9AyIiFzR8y1tgRINsSjuF0SiQNwARYtuKHYmyZjsqG_kAyd2_EfFcmFmukydwFhBd8rZqqTlHLHCPPvJ7lxdbSDC_HiKDRLEH3Us8dcX-xhQ6ZWdaNMfqo-MkyOb4UNVOaQZ8NNc8s3fOkZRr-3Dr6jVjWjjdyNcKO0loGsNG8VMOSZf6FBJByZYoqpFdvWhCmnxVZC1_6Jv4vEZ6sk9aCtPApfUlqO8wJydKUOGvamURBcOoYgL-YRGK9lQDKQRrm9CNKHSkyXtn59XTaCpAInZAYnI8riN3s71c1C_9Ry-PdXtU0mcgU-caNMwMieJcy5iOUP4ZSeaRuKT2J6jjKKlvYX4AFyiw=s64",
      "userId": "01962885165714747888"
     },
     "user_tz": -540
    },
    "id": "xmw6B6WBiEAj",
    "outputId": "ce72dd1b-5b12-4647-aff0-bfc4b578a104"
   }
  },
  {
   "cell_type": "code",
   "execution_count": null,
   "source": [
    "args_dict = {\n",
    "    'exp_name': \"exp_2\", # 実験名(この名前のフォルダが./expに生成される)\n",
    "    \"noize_dim\": 100, # Gの入力乱数ベクトルの次元\n",
    "    \"batch_size\": 128, # バッチサイズ\n",
    "    \"num_epoch\": 100, # 学習エポック数\n",
    "    \"make_logs\": True, # D,GのLossをLogとして記録するかどうか\n",
    "    \"restore_ckpt\": False, # 学習済みモデルのckptを読み込むかどうか\n",
    "    \"sample_freq\": 10, # 学習中の画像生成頻度(エポック数)\n",
    "    \"ckpt_freq\": 10, # 学習中のckpt保存頻度(エポック数)\n",
    "    \"adam\": {\"lr\":2e-4, # 学習率\n",
    "            \"beta_1\":0.5,\n",
    "            \"beta_2\":0.9,\n",
    "            \"epsilon\":1e-8}\n",
    "    }"
   ],
   "outputs": [],
   "metadata": {
    "executionInfo": {
     "elapsed": 255,
     "status": "ok",
     "timestamp": 1644835645781,
     "user": {
      "displayName": "Kyosuke Matsumoto",
      "photoUrl": "https://lh3.googleusercontent.com/a-/AOh14GgX9Uhzu8b_104YXb8XaUjaS1gOV5qY3pUOBdSt6myqcoDCbmoAUa-9xEejB79mRmiaz31naV0Jz05uZ2lXajh3lycIMcEF--kljG9adcaCkxoQEZjvbtmwsou6S0JzDephGugEyotn7T7kuN2j25vlRiDKy_CUmxt9CznpyvEFZEWQ1TnV-v2b2-Z_Y7UbtYY9ORioVgaYuOIS0w2oQmUtiYOlNZVBftl5gIwoj0b-G_FCaW4EXVyktQwCJNEcw-sSUW4tPawPEbNcUJ4kgHMMSLqVbbr_cs_76yRtRhEwA0Ra-VHKG6DIqFQpKkuUilgHYYwUfLSnFZX5BljtYDMfrZgG8qczLSD-iIfcfcAhlzZnP_e8S6jKiajRZ-uLaY8WAKQVe-4wSr_8HtoKGacvlEI9mPRmJdgCTJwq1aEQm-AH_-7jnIGQbZG84qmVaWZdBCy_lfnV6_cx3efm7TIH7liHU1YCGH-7ePX_N8QzA2t-WQYq4OMnhnl9Av6pS5ynifLvTUxnsFQ8AL5q9LAFuZH52Y8iJQjnFdE8CUAj3xdCrMHwU0FhYQOAvEIHvP_A2NMQA1YKNm3GbJsopfJMQO77uEzHqJZk1D0d569Oe03dtxsVOqdA4iJqtU-SAoJuL-NPsvWrPHFte9rYt4kkL-Gmr_rjjeO2g9C96Hzkr5Y7Y0m6-PJ6mXjxi1NI8w9ZK_JkiEeZSl-NUpLYWKr0NyDj0ZKJQ5ZkEranD5PzsSdNgMxZFtavEjmRlVHOnkWAbg=s64",
      "userId": "01962885165714747888"
     },
     "user_tz": -540
    },
    "id": "kIl4XMiziEAl"
   }
  },
  {
   "cell_type": "code",
   "execution_count": null,
   "source": [
    "train_data_path = \"./train_data/train_data.npy\"\n",
    "# 学習データサイズ(data_num, H:64, W:64, RGB:3), 値の範囲は[-1,1]\n",
    "print(\"Loading Train Data\")\n",
    "train_data = np.load(train_data_path)\n",
    "print(\"Train Data Loaded\")"
   ],
   "outputs": [],
   "metadata": {
    "colab": {
     "base_uri": "https://localhost:8080/"
    },
    "executionInfo": {
     "elapsed": 4446,
     "status": "ok",
     "timestamp": 1644835652013,
     "user": {
      "displayName": "Kyosuke Matsumoto",
      "photoUrl": "https://lh3.googleusercontent.com/a-/AOh14GgX9Uhzu8b_104YXb8XaUjaS1gOV5qY3pUOBdSt6myqcoDCbmoAUa-9xEejB79mRmiaz31naV0Jz05uZ2lXajh3lycIMcEF--kljG9adcaCkxoQEZjvbtmwsou6S0JzDephGugEyotn7T7kuN2j25vlRiDKy_CUmxt9CznpyvEFZEWQ1TnV-v2b2-Z_Y7UbtYY9ORioVgaYuOIS0w2oQmUtiYOlNZVBftl5gIwoj0b-G_FCaW4EXVyktQwCJNEcw-sSUW4tPawPEbNcUJ4kgHMMSLqVbbr_cs_76yRtRhEwA0Ra-VHKG6DIqFQpKkuUilgHYYwUfLSnFZX5BljtYDMfrZgG8qczLSD-iIfcfcAhlzZnP_e8S6jKiajRZ-uLaY8WAKQVe-4wSr_8HtoKGacvlEI9mPRmJdgCTJwq1aEQm-AH_-7jnIGQbZG84qmVaWZdBCy_lfnV6_cx3efm7TIH7liHU1YCGH-7ePX_N8QzA2t-WQYq4OMnhnl9Av6pS5ynifLvTUxnsFQ8AL5q9LAFuZH52Y8iJQjnFdE8CUAj3xdCrMHwU0FhYQOAvEIHvP_A2NMQA1YKNm3GbJsopfJMQO77uEzHqJZk1D0d569Oe03dtxsVOqdA4iJqtU-SAoJuL-NPsvWrPHFte9rYt4kkL-Gmr_rjjeO2g9C96Hzkr5Y7Y0m6-PJ6mXjxi1NI8w9ZK_JkiEeZSl-NUpLYWKr0NyDj0ZKJQ5ZkEranD5PzsSdNgMxZFtavEjmRlVHOnkWAbg=s64",
      "userId": "01962885165714747888"
     },
     "user_tz": -540
    },
    "id": "AT65FV6oiEAl",
    "outputId": "a3a38db7-72b9-4051-d2ad-b5deb47eb817"
   }
  },
  {
   "cell_type": "code",
   "execution_count": null,
   "source": [
    "model = DCGAN(args_dict)"
   ],
   "outputs": [],
   "metadata": {
    "colab": {
     "base_uri": "https://localhost:8080/"
    },
    "executionInfo": {
     "elapsed": 9759,
     "status": "ok",
     "timestamp": 1644835664613,
     "user": {
      "displayName": "Kyosuke Matsumoto",
      "photoUrl": "https://lh3.googleusercontent.com/a-/AOh14GgX9Uhzu8b_104YXb8XaUjaS1gOV5qY3pUOBdSt6myqcoDCbmoAUa-9xEejB79mRmiaz31naV0Jz05uZ2lXajh3lycIMcEF--kljG9adcaCkxoQEZjvbtmwsou6S0JzDephGugEyotn7T7kuN2j25vlRiDKy_CUmxt9CznpyvEFZEWQ1TnV-v2b2-Z_Y7UbtYY9ORioVgaYuOIS0w2oQmUtiYOlNZVBftl5gIwoj0b-G_FCaW4EXVyktQwCJNEcw-sSUW4tPawPEbNcUJ4kgHMMSLqVbbr_cs_76yRtRhEwA0Ra-VHKG6DIqFQpKkuUilgHYYwUfLSnFZX5BljtYDMfrZgG8qczLSD-iIfcfcAhlzZnP_e8S6jKiajRZ-uLaY8WAKQVe-4wSr_8HtoKGacvlEI9mPRmJdgCTJwq1aEQm-AH_-7jnIGQbZG84qmVaWZdBCy_lfnV6_cx3efm7TIH7liHU1YCGH-7ePX_N8QzA2t-WQYq4OMnhnl9Av6pS5ynifLvTUxnsFQ8AL5q9LAFuZH52Y8iJQjnFdE8CUAj3xdCrMHwU0FhYQOAvEIHvP_A2NMQA1YKNm3GbJsopfJMQO77uEzHqJZk1D0d569Oe03dtxsVOqdA4iJqtU-SAoJuL-NPsvWrPHFte9rYt4kkL-Gmr_rjjeO2g9C96Hzkr5Y7Y0m6-PJ6mXjxi1NI8w9ZK_JkiEeZSl-NUpLYWKr0NyDj0ZKJQ5ZkEranD5PzsSdNgMxZFtavEjmRlVHOnkWAbg=s64",
      "userId": "01962885165714747888"
     },
     "user_tz": -540
    },
    "id": "LRb1nWf4iEAm",
    "outputId": "2bc65b14-ad00-4018-980e-dc1de20b28a4"
   }
  },
  {
   "cell_type": "code",
   "execution_count": null,
   "source": [
    "model.train(train_data)"
   ],
   "outputs": [],
   "metadata": {
    "colab": {
     "base_uri": "https://localhost:8080/"
    },
    "executionInfo": {
     "elapsed": 5385052,
     "status": "ok",
     "timestamp": 1644841055748,
     "user": {
      "displayName": "Kyosuke Matsumoto",
      "photoUrl": "https://lh3.googleusercontent.com/a-/AOh14GgX9Uhzu8b_104YXb8XaUjaS1gOV5qY3pUOBdSt6myqcoDCbmoAUa-9xEejB79mRmiaz31naV0Jz05uZ2lXajh3lycIMcEF--kljG9adcaCkxoQEZjvbtmwsou6S0JzDephGugEyotn7T7kuN2j25vlRiDKy_CUmxt9CznpyvEFZEWQ1TnV-v2b2-Z_Y7UbtYY9ORioVgaYuOIS0w2oQmUtiYOlNZVBftl5gIwoj0b-G_FCaW4EXVyktQwCJNEcw-sSUW4tPawPEbNcUJ4kgHMMSLqVbbr_cs_76yRtRhEwA0Ra-VHKG6DIqFQpKkuUilgHYYwUfLSnFZX5BljtYDMfrZgG8qczLSD-iIfcfcAhlzZnP_e8S6jKiajRZ-uLaY8WAKQVe-4wSr_8HtoKGacvlEI9mPRmJdgCTJwq1aEQm-AH_-7jnIGQbZG84qmVaWZdBCy_lfnV6_cx3efm7TIH7liHU1YCGH-7ePX_N8QzA2t-WQYq4OMnhnl9Av6pS5ynifLvTUxnsFQ8AL5q9LAFuZH52Y8iJQjnFdE8CUAj3xdCrMHwU0FhYQOAvEIHvP_A2NMQA1YKNm3GbJsopfJMQO77uEzHqJZk1D0d569Oe03dtxsVOqdA4iJqtU-SAoJuL-NPsvWrPHFte9rYt4kkL-Gmr_rjjeO2g9C96Hzkr5Y7Y0m6-PJ6mXjxi1NI8w9ZK_JkiEeZSl-NUpLYWKr0NyDj0ZKJQ5ZkEranD5PzsSdNgMxZFtavEjmRlVHOnkWAbg=s64",
      "userId": "01962885165714747888"
     },
     "user_tz": -540
    },
    "id": "AhP3teZTiEAn",
    "outputId": "7f4932dc-85a1-42d1-ff56-540f90ca3aa4"
   }
  },
  {
   "cell_type": "code",
   "execution_count": null,
   "source": [
    "# 学習済みモデルを用いて画像生成\n",
    "model.generate_img()"
   ],
   "outputs": [],
   "metadata": {
    "colab": {
     "base_uri": "https://localhost:8080/"
    },
    "executionInfo": {
     "elapsed": 2380,
     "status": "ok",
     "timestamp": 1644835406436,
     "user": {
      "displayName": "Kyosuke Matsumoto",
      "photoUrl": "https://lh3.googleusercontent.com/a-/AOh14GjgaxuB8WeiFYaeaM1y6BTL8VZMN3Vpa1Ucgblt8CQnWf8asG_9OUnuPLKYq6Ct8ewD6r8VLsNTGRDAy6Ezj_QjSky2-bXfoVbb8KHqv6Lkxf1e9FCp5GNSqzDlTfSVwJsn-dF8vpMVa_kZEvzjIVv9dpKrH2Sn-_g4jCcfiGDAW9dQhtIte-fp4jIN9JDXroDA5_-4qH2_wjtzw30YzXd48pEbVCFTM160bIs70oBURJz-z0ERBxJvLAZ4_nYV0CHl71WavuBDFPGpm3wr79nUI6PiByN2glU8FDu49y9ftUaPOfM6mqZvthwnPtwB7tb_moyizyNeQTRZtp9Ty0R9sMZJoeS4FKC1jxPK8HvytrnK3bzck8NxDwO6pH0BWNuB_z--i9YihuBPDRo3Voq8oD2j7gEUhV4hY-tgdBj5GczwXiH57Mhy81LA2mtqrdzvI-9QHkLhESysPt83acXCiACUU3g5fqALGhEzDeaQMZ8r3rZ7OPHLPSEkHusvqol0Pj7NR1vOJJJ0dUj6oIIXKMQVs8wUrv_FITocMWe6RUmpPH_vJKN3AU-u1dmi5gY3F5jfx4be2zkE20W6gAZVJNY2d06Q5CY1iJ-XahMbuy03E5ncGUbwonYSJrzR5zMcq17cY5JRTd-eh3EK_pAPcgV0LSi4kr2btcnCoV_KuCRzTotlwQyWB18pQNoCa6JNCLlYYhkdsog7_oj9kAv5pt92iEzR_SMxQxZ8AfB-67ki9wGtCWTrjBiXiXtTte6WiQ=s64",
      "userId": "01962885165714747888"
     },
     "user_tz": -540
    },
    "id": "SdcSPRIciEAn",
    "outputId": "830e701e-8ce6-423c-b694-a8342d49ad99"
   }
  },
  {
   "cell_type": "code",
   "execution_count": null,
   "source": [],
   "outputs": [],
   "metadata": {}
  }
 ],
 "metadata": {
  "accelerator": "GPU",
  "colab": {
   "collapsed_sections": [],
   "name": "dcgan.ipynb",
   "provenance": []
  },
  "interpreter": {
   "hash": "fc4a78780ec9c8f5fd41b12b5329a21350b5c7c69ca5abee6b7cfefb9cdbec51"
  },
  "kernelspec": {
   "name": "python3",
   "display_name": "Python 3.7.9 64-bit ('.venv': poetry)"
  },
  "language_info": {
   "codemirror_mode": {
    "name": "ipython",
    "version": 3
   },
   "file_extension": ".py",
   "mimetype": "text/x-python",
   "name": "python",
   "nbconvert_exporter": "python",
   "pygments_lexer": "ipython3",
   "version": "3.7.9"
  }
 },
 "nbformat": 4,
 "nbformat_minor": 2
}