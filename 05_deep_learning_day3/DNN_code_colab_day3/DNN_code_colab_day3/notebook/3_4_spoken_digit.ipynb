{
  "nbformat": 4,
  "nbformat_minor": 0,
  "metadata": {
    "colab": {
      "name": "spoken_digitデータセットを例にした再帰型ニューラルネットワークのいろいろ",
      "provenance": [],
      "collapsed_sections": [],
      "toc_visible": true
    },
    "kernelspec": {
      "name": "python3",
      "display_name": "Python 3"
    },
    "accelerator": "GPU",
    "widgets": {
      "application/vnd.jupyter.widget-state+json": {
        "7a31be8b33c945b285293e24329593b4": {
          "model_module": "@jupyter-widgets/controls",
          "model_name": "HBoxModel",
          "state": {
            "_view_name": "HBoxView",
            "_dom_classes": [],
            "_model_name": "HBoxModel",
            "_view_module": "@jupyter-widgets/controls",
            "_model_module_version": "1.5.0",
            "_view_count": null,
            "_view_module_version": "1.5.0",
            "box_style": "",
            "layout": "IPY_MODEL_147c95c545754f31bdf75f60e6d509d0",
            "_model_module": "@jupyter-widgets/controls",
            "children": [
              "IPY_MODEL_924bcc643658454b8a32a94132014b3c",
              "IPY_MODEL_d03e3e4430f249269f246f828e1ba3e5"
            ]
          }
        },
        "147c95c545754f31bdf75f60e6d509d0": {
          "model_module": "@jupyter-widgets/base",
          "model_name": "LayoutModel",
          "state": {
            "_view_name": "LayoutView",
            "grid_template_rows": null,
            "right": null,
            "justify_content": null,
            "_view_module": "@jupyter-widgets/base",
            "overflow": null,
            "_model_module_version": "1.2.0",
            "_view_count": null,
            "flex_flow": null,
            "width": null,
            "min_width": null,
            "border": null,
            "align_items": null,
            "bottom": null,
            "_model_module": "@jupyter-widgets/base",
            "top": null,
            "grid_column": null,
            "overflow_y": null,
            "overflow_x": null,
            "grid_auto_flow": null,
            "grid_area": null,
            "grid_template_columns": null,
            "flex": null,
            "_model_name": "LayoutModel",
            "justify_items": null,
            "grid_row": null,
            "max_height": null,
            "align_content": null,
            "visibility": null,
            "align_self": null,
            "height": null,
            "min_height": null,
            "padding": null,
            "grid_auto_rows": null,
            "grid_gap": null,
            "max_width": null,
            "order": null,
            "_view_module_version": "1.2.0",
            "grid_template_areas": null,
            "object_position": null,
            "object_fit": null,
            "grid_auto_columns": null,
            "margin": null,
            "display": null,
            "left": null
          }
        },
        "924bcc643658454b8a32a94132014b3c": {
          "model_module": "@jupyter-widgets/controls",
          "model_name": "FloatProgressModel",
          "state": {
            "_view_name": "ProgressView",
            "style": "IPY_MODEL_17a7bfa54a29488b8d00e0c17ab91570",
            "_dom_classes": [],
            "description": "Dl Completed...: 100%",
            "_model_name": "FloatProgressModel",
            "bar_style": "success",
            "max": 1,
            "_view_module": "@jupyter-widgets/controls",
            "_model_module_version": "1.5.0",
            "value": 1,
            "_view_count": null,
            "_view_module_version": "1.5.0",
            "orientation": "horizontal",
            "min": 0,
            "description_tooltip": null,
            "_model_module": "@jupyter-widgets/controls",
            "layout": "IPY_MODEL_c99d5d2da3bd487bba476f7c4b78cafd"
          }
        },
        "d03e3e4430f249269f246f828e1ba3e5": {
          "model_module": "@jupyter-widgets/controls",
          "model_name": "HTMLModel",
          "state": {
            "_view_name": "HTMLView",
            "style": "IPY_MODEL_283f762427804d37bcd793fd1be9b227",
            "_dom_classes": [],
            "description": "",
            "_model_name": "HTMLModel",
            "placeholder": "​",
            "_view_module": "@jupyter-widgets/controls",
            "_model_module_version": "1.5.0",
            "value": " 1/1 [00:02&lt;00:00,  2.07s/ url]",
            "_view_count": null,
            "_view_module_version": "1.5.0",
            "description_tooltip": null,
            "_model_module": "@jupyter-widgets/controls",
            "layout": "IPY_MODEL_28f21c345c804597a74fed737170b0e3"
          }
        },
        "17a7bfa54a29488b8d00e0c17ab91570": {
          "model_module": "@jupyter-widgets/controls",
          "model_name": "ProgressStyleModel",
          "state": {
            "_view_name": "StyleView",
            "_model_name": "ProgressStyleModel",
            "description_width": "initial",
            "_view_module": "@jupyter-widgets/base",
            "_model_module_version": "1.5.0",
            "_view_count": null,
            "_view_module_version": "1.2.0",
            "bar_color": null,
            "_model_module": "@jupyter-widgets/controls"
          }
        },
        "c99d5d2da3bd487bba476f7c4b78cafd": {
          "model_module": "@jupyter-widgets/base",
          "model_name": "LayoutModel",
          "state": {
            "_view_name": "LayoutView",
            "grid_template_rows": null,
            "right": null,
            "justify_content": null,
            "_view_module": "@jupyter-widgets/base",
            "overflow": null,
            "_model_module_version": "1.2.0",
            "_view_count": null,
            "flex_flow": null,
            "width": null,
            "min_width": null,
            "border": null,
            "align_items": null,
            "bottom": null,
            "_model_module": "@jupyter-widgets/base",
            "top": null,
            "grid_column": null,
            "overflow_y": null,
            "overflow_x": null,
            "grid_auto_flow": null,
            "grid_area": null,
            "grid_template_columns": null,
            "flex": null,
            "_model_name": "LayoutModel",
            "justify_items": null,
            "grid_row": null,
            "max_height": null,
            "align_content": null,
            "visibility": null,
            "align_self": null,
            "height": null,
            "min_height": null,
            "padding": null,
            "grid_auto_rows": null,
            "grid_gap": null,
            "max_width": null,
            "order": null,
            "_view_module_version": "1.2.0",
            "grid_template_areas": null,
            "object_position": null,
            "object_fit": null,
            "grid_auto_columns": null,
            "margin": null,
            "display": null,
            "left": null
          }
        },
        "283f762427804d37bcd793fd1be9b227": {
          "model_module": "@jupyter-widgets/controls",
          "model_name": "DescriptionStyleModel",
          "state": {
            "_view_name": "StyleView",
            "_model_name": "DescriptionStyleModel",
            "description_width": "",
            "_view_module": "@jupyter-widgets/base",
            "_model_module_version": "1.5.0",
            "_view_count": null,
            "_view_module_version": "1.2.0",
            "_model_module": "@jupyter-widgets/controls"
          }
        },
        "28f21c345c804597a74fed737170b0e3": {
          "model_module": "@jupyter-widgets/base",
          "model_name": "LayoutModel",
          "state": {
            "_view_name": "LayoutView",
            "grid_template_rows": null,
            "right": null,
            "justify_content": null,
            "_view_module": "@jupyter-widgets/base",
            "overflow": null,
            "_model_module_version": "1.2.0",
            "_view_count": null,
            "flex_flow": null,
            "width": null,
            "min_width": null,
            "border": null,
            "align_items": null,
            "bottom": null,
            "_model_module": "@jupyter-widgets/base",
            "top": null,
            "grid_column": null,
            "overflow_y": null,
            "overflow_x": null,
            "grid_auto_flow": null,
            "grid_area": null,
            "grid_template_columns": null,
            "flex": null,
            "_model_name": "LayoutModel",
            "justify_items": null,
            "grid_row": null,
            "max_height": null,
            "align_content": null,
            "visibility": null,
            "align_self": null,
            "height": null,
            "min_height": null,
            "padding": null,
            "grid_auto_rows": null,
            "grid_gap": null,
            "max_width": null,
            "order": null,
            "_view_module_version": "1.2.0",
            "grid_template_areas": null,
            "object_position": null,
            "object_fit": null,
            "grid_auto_columns": null,
            "margin": null,
            "display": null,
            "left": null
          }
        },
        "d5ab38d297ec45f189ba38a821988b2a": {
          "model_module": "@jupyter-widgets/controls",
          "model_name": "HBoxModel",
          "state": {
            "_view_name": "HBoxView",
            "_dom_classes": [],
            "_model_name": "HBoxModel",
            "_view_module": "@jupyter-widgets/controls",
            "_model_module_version": "1.5.0",
            "_view_count": null,
            "_view_module_version": "1.5.0",
            "box_style": "",
            "layout": "IPY_MODEL_807f05f80012476f8b64a5144c71177a",
            "_model_module": "@jupyter-widgets/controls",
            "children": [
              "IPY_MODEL_bf31012c290a4f0ea1a16a303b910661",
              "IPY_MODEL_7784b49a766d4ab59506ae35f0e8576f"
            ]
          }
        },
        "807f05f80012476f8b64a5144c71177a": {
          "model_module": "@jupyter-widgets/base",
          "model_name": "LayoutModel",
          "state": {
            "_view_name": "LayoutView",
            "grid_template_rows": null,
            "right": null,
            "justify_content": null,
            "_view_module": "@jupyter-widgets/base",
            "overflow": null,
            "_model_module_version": "1.2.0",
            "_view_count": null,
            "flex_flow": null,
            "width": null,
            "min_width": null,
            "border": null,
            "align_items": null,
            "bottom": null,
            "_model_module": "@jupyter-widgets/base",
            "top": null,
            "grid_column": null,
            "overflow_y": null,
            "overflow_x": null,
            "grid_auto_flow": null,
            "grid_area": null,
            "grid_template_columns": null,
            "flex": null,
            "_model_name": "LayoutModel",
            "justify_items": null,
            "grid_row": null,
            "max_height": null,
            "align_content": null,
            "visibility": null,
            "align_self": null,
            "height": null,
            "min_height": null,
            "padding": null,
            "grid_auto_rows": null,
            "grid_gap": null,
            "max_width": null,
            "order": null,
            "_view_module_version": "1.2.0",
            "grid_template_areas": null,
            "object_position": null,
            "object_fit": null,
            "grid_auto_columns": null,
            "margin": null,
            "display": null,
            "left": null
          }
        },
        "bf31012c290a4f0ea1a16a303b910661": {
          "model_module": "@jupyter-widgets/controls",
          "model_name": "FloatProgressModel",
          "state": {
            "_view_name": "ProgressView",
            "style": "IPY_MODEL_d10f902004774bbe86e26848547c6d02",
            "_dom_classes": [],
            "description": "Dl Size...: ",
            "_model_name": "FloatProgressModel",
            "bar_style": "success",
            "max": 1,
            "_view_module": "@jupyter-widgets/controls",
            "_model_module_version": "1.5.0",
            "value": 1,
            "_view_count": null,
            "_view_module_version": "1.5.0",
            "orientation": "horizontal",
            "min": 0,
            "description_tooltip": null,
            "_model_module": "@jupyter-widgets/controls",
            "layout": "IPY_MODEL_b6822465f2304efe8cd702b20deca1ab"
          }
        },
        "7784b49a766d4ab59506ae35f0e8576f": {
          "model_module": "@jupyter-widgets/controls",
          "model_name": "HTMLModel",
          "state": {
            "_view_name": "HTMLView",
            "style": "IPY_MODEL_83b4d9abb8d14f4cb809354e672dd54c",
            "_dom_classes": [],
            "description": "",
            "_model_name": "HTMLModel",
            "placeholder": "​",
            "_view_module": "@jupyter-widgets/controls",
            "_model_module_version": "1.5.0",
            "value": " 11/0 [00:02&lt;00:00,  5.41 MiB/s]",
            "_view_count": null,
            "_view_module_version": "1.5.0",
            "description_tooltip": null,
            "_model_module": "@jupyter-widgets/controls",
            "layout": "IPY_MODEL_33e6b061b5ff492e9a5498b55fb41410"
          }
        },
        "d10f902004774bbe86e26848547c6d02": {
          "model_module": "@jupyter-widgets/controls",
          "model_name": "ProgressStyleModel",
          "state": {
            "_view_name": "StyleView",
            "_model_name": "ProgressStyleModel",
            "description_width": "initial",
            "_view_module": "@jupyter-widgets/base",
            "_model_module_version": "1.5.0",
            "_view_count": null,
            "_view_module_version": "1.2.0",
            "bar_color": null,
            "_model_module": "@jupyter-widgets/controls"
          }
        },
        "b6822465f2304efe8cd702b20deca1ab": {
          "model_module": "@jupyter-widgets/base",
          "model_name": "LayoutModel",
          "state": {
            "_view_name": "LayoutView",
            "grid_template_rows": null,
            "right": null,
            "justify_content": null,
            "_view_module": "@jupyter-widgets/base",
            "overflow": null,
            "_model_module_version": "1.2.0",
            "_view_count": null,
            "flex_flow": null,
            "width": null,
            "min_width": null,
            "border": null,
            "align_items": null,
            "bottom": null,
            "_model_module": "@jupyter-widgets/base",
            "top": null,
            "grid_column": null,
            "overflow_y": null,
            "overflow_x": null,
            "grid_auto_flow": null,
            "grid_area": null,
            "grid_template_columns": null,
            "flex": null,
            "_model_name": "LayoutModel",
            "justify_items": null,
            "grid_row": null,
            "max_height": null,
            "align_content": null,
            "visibility": null,
            "align_self": null,
            "height": null,
            "min_height": null,
            "padding": null,
            "grid_auto_rows": null,
            "grid_gap": null,
            "max_width": null,
            "order": null,
            "_view_module_version": "1.2.0",
            "grid_template_areas": null,
            "object_position": null,
            "object_fit": null,
            "grid_auto_columns": null,
            "margin": null,
            "display": null,
            "left": null
          }
        },
        "83b4d9abb8d14f4cb809354e672dd54c": {
          "model_module": "@jupyter-widgets/controls",
          "model_name": "DescriptionStyleModel",
          "state": {
            "_view_name": "StyleView",
            "_model_name": "DescriptionStyleModel",
            "description_width": "",
            "_view_module": "@jupyter-widgets/base",
            "_model_module_version": "1.5.0",
            "_view_count": null,
            "_view_module_version": "1.2.0",
            "_model_module": "@jupyter-widgets/controls"
          }
        },
        "33e6b061b5ff492e9a5498b55fb41410": {
          "model_module": "@jupyter-widgets/base",
          "model_name": "LayoutModel",
          "state": {
            "_view_name": "LayoutView",
            "grid_template_rows": null,
            "right": null,
            "justify_content": null,
            "_view_module": "@jupyter-widgets/base",
            "overflow": null,
            "_model_module_version": "1.2.0",
            "_view_count": null,
            "flex_flow": null,
            "width": null,
            "min_width": null,
            "border": null,
            "align_items": null,
            "bottom": null,
            "_model_module": "@jupyter-widgets/base",
            "top": null,
            "grid_column": null,
            "overflow_y": null,
            "overflow_x": null,
            "grid_auto_flow": null,
            "grid_area": null,
            "grid_template_columns": null,
            "flex": null,
            "_model_name": "LayoutModel",
            "justify_items": null,
            "grid_row": null,
            "max_height": null,
            "align_content": null,
            "visibility": null,
            "align_self": null,
            "height": null,
            "min_height": null,
            "padding": null,
            "grid_auto_rows": null,
            "grid_gap": null,
            "max_width": null,
            "order": null,
            "_view_module_version": "1.2.0",
            "grid_template_areas": null,
            "object_position": null,
            "object_fit": null,
            "grid_auto_columns": null,
            "margin": null,
            "display": null,
            "left": null
          }
        },
        "a7c6cfed3808411f9cf7a8c6148aa814": {
          "model_module": "@jupyter-widgets/controls",
          "model_name": "HBoxModel",
          "state": {
            "_view_name": "HBoxView",
            "_dom_classes": [],
            "_model_name": "HBoxModel",
            "_view_module": "@jupyter-widgets/controls",
            "_model_module_version": "1.5.0",
            "_view_count": null,
            "_view_module_version": "1.5.0",
            "box_style": "",
            "layout": "IPY_MODEL_af14297b1ffe40e2bb28f59a4a0e466a",
            "_model_module": "@jupyter-widgets/controls",
            "children": [
              "IPY_MODEL_3fdd853e5add4b69aae84232fdc9443c",
              "IPY_MODEL_defca4806bc04875a1e041058478e950"
            ]
          }
        },
        "af14297b1ffe40e2bb28f59a4a0e466a": {
          "model_module": "@jupyter-widgets/base",
          "model_name": "LayoutModel",
          "state": {
            "_view_name": "LayoutView",
            "grid_template_rows": null,
            "right": null,
            "justify_content": null,
            "_view_module": "@jupyter-widgets/base",
            "overflow": null,
            "_model_module_version": "1.2.0",
            "_view_count": null,
            "flex_flow": null,
            "width": null,
            "min_width": null,
            "border": null,
            "align_items": null,
            "bottom": null,
            "_model_module": "@jupyter-widgets/base",
            "top": null,
            "grid_column": null,
            "overflow_y": null,
            "overflow_x": null,
            "grid_auto_flow": null,
            "grid_area": null,
            "grid_template_columns": null,
            "flex": null,
            "_model_name": "LayoutModel",
            "justify_items": null,
            "grid_row": null,
            "max_height": null,
            "align_content": null,
            "visibility": null,
            "align_self": null,
            "height": null,
            "min_height": null,
            "padding": null,
            "grid_auto_rows": null,
            "grid_gap": null,
            "max_width": null,
            "order": null,
            "_view_module_version": "1.2.0",
            "grid_template_areas": null,
            "object_position": null,
            "object_fit": null,
            "grid_auto_columns": null,
            "margin": null,
            "display": null,
            "left": null
          }
        },
        "3fdd853e5add4b69aae84232fdc9443c": {
          "model_module": "@jupyter-widgets/controls",
          "model_name": "FloatProgressModel",
          "state": {
            "_view_name": "ProgressView",
            "style": "IPY_MODEL_dd72fa04e69f4fec869abc248cd11a02",
            "_dom_classes": [],
            "description": "Extraction completed...: 100%",
            "_model_name": "FloatProgressModel",
            "bar_style": "success",
            "max": 1,
            "_view_module": "@jupyter-widgets/controls",
            "_model_module_version": "1.5.0",
            "value": 1,
            "_view_count": null,
            "_view_module_version": "1.5.0",
            "orientation": "horizontal",
            "min": 0,
            "description_tooltip": null,
            "_model_module": "@jupyter-widgets/controls",
            "layout": "IPY_MODEL_2a03b7003ce8416baa692fbcff29acda"
          }
        },
        "defca4806bc04875a1e041058478e950": {
          "model_module": "@jupyter-widgets/controls",
          "model_name": "HTMLModel",
          "state": {
            "_view_name": "HTMLView",
            "style": "IPY_MODEL_6cb984f788804581ba435d395440b0fe",
            "_dom_classes": [],
            "description": "",
            "_model_name": "HTMLModel",
            "placeholder": "​",
            "_view_module": "@jupyter-widgets/controls",
            "_model_module_version": "1.5.0",
            "value": " 1/1 [00:01&lt;00:00,  1.99s/ file]",
            "_view_count": null,
            "_view_module_version": "1.5.0",
            "description_tooltip": null,
            "_model_module": "@jupyter-widgets/controls",
            "layout": "IPY_MODEL_3a87b0eddf5946469e871d5bbc24e42c"
          }
        },
        "dd72fa04e69f4fec869abc248cd11a02": {
          "model_module": "@jupyter-widgets/controls",
          "model_name": "ProgressStyleModel",
          "state": {
            "_view_name": "StyleView",
            "_model_name": "ProgressStyleModel",
            "description_width": "initial",
            "_view_module": "@jupyter-widgets/base",
            "_model_module_version": "1.5.0",
            "_view_count": null,
            "_view_module_version": "1.2.0",
            "bar_color": null,
            "_model_module": "@jupyter-widgets/controls"
          }
        },
        "2a03b7003ce8416baa692fbcff29acda": {
          "model_module": "@jupyter-widgets/base",
          "model_name": "LayoutModel",
          "state": {
            "_view_name": "LayoutView",
            "grid_template_rows": null,
            "right": null,
            "justify_content": null,
            "_view_module": "@jupyter-widgets/base",
            "overflow": null,
            "_model_module_version": "1.2.0",
            "_view_count": null,
            "flex_flow": null,
            "width": null,
            "min_width": null,
            "border": null,
            "align_items": null,
            "bottom": null,
            "_model_module": "@jupyter-widgets/base",
            "top": null,
            "grid_column": null,
            "overflow_y": null,
            "overflow_x": null,
            "grid_auto_flow": null,
            "grid_area": null,
            "grid_template_columns": null,
            "flex": null,
            "_model_name": "LayoutModel",
            "justify_items": null,
            "grid_row": null,
            "max_height": null,
            "align_content": null,
            "visibility": null,
            "align_self": null,
            "height": null,
            "min_height": null,
            "padding": null,
            "grid_auto_rows": null,
            "grid_gap": null,
            "max_width": null,
            "order": null,
            "_view_module_version": "1.2.0",
            "grid_template_areas": null,
            "object_position": null,
            "object_fit": null,
            "grid_auto_columns": null,
            "margin": null,
            "display": null,
            "left": null
          }
        },
        "6cb984f788804581ba435d395440b0fe": {
          "model_module": "@jupyter-widgets/controls",
          "model_name": "DescriptionStyleModel",
          "state": {
            "_view_name": "StyleView",
            "_model_name": "DescriptionStyleModel",
            "description_width": "",
            "_view_module": "@jupyter-widgets/base",
            "_model_module_version": "1.5.0",
            "_view_count": null,
            "_view_module_version": "1.2.0",
            "_model_module": "@jupyter-widgets/controls"
          }
        },
        "3a87b0eddf5946469e871d5bbc24e42c": {
          "model_module": "@jupyter-widgets/base",
          "model_name": "LayoutModel",
          "state": {
            "_view_name": "LayoutView",
            "grid_template_rows": null,
            "right": null,
            "justify_content": null,
            "_view_module": "@jupyter-widgets/base",
            "overflow": null,
            "_model_module_version": "1.2.0",
            "_view_count": null,
            "flex_flow": null,
            "width": null,
            "min_width": null,
            "border": null,
            "align_items": null,
            "bottom": null,
            "_model_module": "@jupyter-widgets/base",
            "top": null,
            "grid_column": null,
            "overflow_y": null,
            "overflow_x": null,
            "grid_auto_flow": null,
            "grid_area": null,
            "grid_template_columns": null,
            "flex": null,
            "_model_name": "LayoutModel",
            "justify_items": null,
            "grid_row": null,
            "max_height": null,
            "align_content": null,
            "visibility": null,
            "align_self": null,
            "height": null,
            "min_height": null,
            "padding": null,
            "grid_auto_rows": null,
            "grid_gap": null,
            "max_width": null,
            "order": null,
            "_view_module_version": "1.2.0",
            "grid_template_areas": null,
            "object_position": null,
            "object_fit": null,
            "grid_auto_columns": null,
            "margin": null,
            "display": null,
            "left": null
          }
        },
        "f06350ecff6646bcb8c61ae55e5e568d": {
          "model_module": "@jupyter-widgets/controls",
          "model_name": "HBoxModel",
          "state": {
            "_view_name": "HBoxView",
            "_dom_classes": [],
            "_model_name": "HBoxModel",
            "_view_module": "@jupyter-widgets/controls",
            "_model_module_version": "1.5.0",
            "_view_count": null,
            "_view_module_version": "1.5.0",
            "box_style": "",
            "layout": "IPY_MODEL_56480470426f425dac14c2444a621f2c",
            "_model_module": "@jupyter-widgets/controls",
            "children": [
              "IPY_MODEL_bccb24f1489645659eb796108211d408",
              "IPY_MODEL_cabe64c126e74dbeb671e2c708e4dcf9"
            ]
          }
        },
        "56480470426f425dac14c2444a621f2c": {
          "model_module": "@jupyter-widgets/base",
          "model_name": "LayoutModel",
          "state": {
            "_view_name": "LayoutView",
            "grid_template_rows": null,
            "right": null,
            "justify_content": null,
            "_view_module": "@jupyter-widgets/base",
            "overflow": null,
            "_model_module_version": "1.2.0",
            "_view_count": null,
            "flex_flow": null,
            "width": null,
            "min_width": null,
            "border": null,
            "align_items": null,
            "bottom": null,
            "_model_module": "@jupyter-widgets/base",
            "top": null,
            "grid_column": null,
            "overflow_y": null,
            "overflow_x": null,
            "grid_auto_flow": null,
            "grid_area": null,
            "grid_template_columns": null,
            "flex": null,
            "_model_name": "LayoutModel",
            "justify_items": null,
            "grid_row": null,
            "max_height": null,
            "align_content": null,
            "visibility": null,
            "align_self": null,
            "height": null,
            "min_height": null,
            "padding": null,
            "grid_auto_rows": null,
            "grid_gap": null,
            "max_width": null,
            "order": null,
            "_view_module_version": "1.2.0",
            "grid_template_areas": null,
            "object_position": null,
            "object_fit": null,
            "grid_auto_columns": null,
            "margin": null,
            "display": null,
            "left": null
          }
        },
        "bccb24f1489645659eb796108211d408": {
          "model_module": "@jupyter-widgets/controls",
          "model_name": "FloatProgressModel",
          "state": {
            "_view_name": "ProgressView",
            "style": "IPY_MODEL_094f715ccf6f49b08523a7bbc0e5a42f",
            "_dom_classes": [],
            "description": "",
            "_model_name": "FloatProgressModel",
            "bar_style": "info",
            "max": 1,
            "_view_module": "@jupyter-widgets/controls",
            "_model_module_version": "1.5.0",
            "value": 1,
            "_view_count": null,
            "_view_module_version": "1.5.0",
            "orientation": "horizontal",
            "min": 0,
            "description_tooltip": null,
            "_model_module": "@jupyter-widgets/controls",
            "layout": "IPY_MODEL_184774a8cc0642dbb626006b4224bcea"
          }
        },
        "cabe64c126e74dbeb671e2c708e4dcf9": {
          "model_module": "@jupyter-widgets/controls",
          "model_name": "HTMLModel",
          "state": {
            "_view_name": "HTMLView",
            "style": "IPY_MODEL_ff20053ca8ba4cc5b3e8d0764b038b8c",
            "_dom_classes": [],
            "description": "",
            "_model_name": "HTMLModel",
            "placeholder": "​",
            "_view_module": "@jupyter-widgets/controls",
            "_model_module_version": "1.5.0",
            "value": " 2500/0 [00:03&lt;00:00, 639.09 examples/s]",
            "_view_count": null,
            "_view_module_version": "1.5.0",
            "description_tooltip": null,
            "_model_module": "@jupyter-widgets/controls",
            "layout": "IPY_MODEL_7d8ddcd6323c427bb876457dbf03e7e9"
          }
        },
        "094f715ccf6f49b08523a7bbc0e5a42f": {
          "model_module": "@jupyter-widgets/controls",
          "model_name": "ProgressStyleModel",
          "state": {
            "_view_name": "StyleView",
            "_model_name": "ProgressStyleModel",
            "description_width": "initial",
            "_view_module": "@jupyter-widgets/base",
            "_model_module_version": "1.5.0",
            "_view_count": null,
            "_view_module_version": "1.2.0",
            "bar_color": null,
            "_model_module": "@jupyter-widgets/controls"
          }
        },
        "184774a8cc0642dbb626006b4224bcea": {
          "model_module": "@jupyter-widgets/base",
          "model_name": "LayoutModel",
          "state": {
            "_view_name": "LayoutView",
            "grid_template_rows": null,
            "right": null,
            "justify_content": null,
            "_view_module": "@jupyter-widgets/base",
            "overflow": null,
            "_model_module_version": "1.2.0",
            "_view_count": null,
            "flex_flow": null,
            "width": null,
            "min_width": null,
            "border": null,
            "align_items": null,
            "bottom": null,
            "_model_module": "@jupyter-widgets/base",
            "top": null,
            "grid_column": null,
            "overflow_y": null,
            "overflow_x": null,
            "grid_auto_flow": null,
            "grid_area": null,
            "grid_template_columns": null,
            "flex": null,
            "_model_name": "LayoutModel",
            "justify_items": null,
            "grid_row": null,
            "max_height": null,
            "align_content": null,
            "visibility": null,
            "align_self": null,
            "height": null,
            "min_height": null,
            "padding": null,
            "grid_auto_rows": null,
            "grid_gap": null,
            "max_width": null,
            "order": null,
            "_view_module_version": "1.2.0",
            "grid_template_areas": null,
            "object_position": null,
            "object_fit": null,
            "grid_auto_columns": null,
            "margin": null,
            "display": null,
            "left": null
          }
        },
        "ff20053ca8ba4cc5b3e8d0764b038b8c": {
          "model_module": "@jupyter-widgets/controls",
          "model_name": "DescriptionStyleModel",
          "state": {
            "_view_name": "StyleView",
            "_model_name": "DescriptionStyleModel",
            "description_width": "",
            "_view_module": "@jupyter-widgets/base",
            "_model_module_version": "1.5.0",
            "_view_count": null,
            "_view_module_version": "1.2.0",
            "_model_module": "@jupyter-widgets/controls"
          }
        },
        "7d8ddcd6323c427bb876457dbf03e7e9": {
          "model_module": "@jupyter-widgets/base",
          "model_name": "LayoutModel",
          "state": {
            "_view_name": "LayoutView",
            "grid_template_rows": null,
            "right": null,
            "justify_content": null,
            "_view_module": "@jupyter-widgets/base",
            "overflow": null,
            "_model_module_version": "1.2.0",
            "_view_count": null,
            "flex_flow": null,
            "width": null,
            "min_width": null,
            "border": null,
            "align_items": null,
            "bottom": null,
            "_model_module": "@jupyter-widgets/base",
            "top": null,
            "grid_column": null,
            "overflow_y": null,
            "overflow_x": null,
            "grid_auto_flow": null,
            "grid_area": null,
            "grid_template_columns": null,
            "flex": null,
            "_model_name": "LayoutModel",
            "justify_items": null,
            "grid_row": null,
            "max_height": null,
            "align_content": null,
            "visibility": null,
            "align_self": null,
            "height": null,
            "min_height": null,
            "padding": null,
            "grid_auto_rows": null,
            "grid_gap": null,
            "max_width": null,
            "order": null,
            "_view_module_version": "1.2.0",
            "grid_template_areas": null,
            "object_position": null,
            "object_fit": null,
            "grid_auto_columns": null,
            "margin": null,
            "display": null,
            "left": null
          }
        },
        "e4affa132d9f4449a389c01baeb4b80b": {
          "model_module": "@jupyter-widgets/controls",
          "model_name": "HBoxModel",
          "state": {
            "_view_name": "HBoxView",
            "_dom_classes": [],
            "_model_name": "HBoxModel",
            "_view_module": "@jupyter-widgets/controls",
            "_model_module_version": "1.5.0",
            "_view_count": null,
            "_view_module_version": "1.5.0",
            "box_style": "",
            "layout": "IPY_MODEL_3833700de18a4b1499ba3410946373a2",
            "_model_module": "@jupyter-widgets/controls",
            "children": [
              "IPY_MODEL_8470f6a63d6447e080b3f3296ab2e2e5",
              "IPY_MODEL_14d6ccefca4c4668b29f1673ee931d26"
            ]
          }
        },
        "3833700de18a4b1499ba3410946373a2": {
          "model_module": "@jupyter-widgets/base",
          "model_name": "LayoutModel",
          "state": {
            "_view_name": "LayoutView",
            "grid_template_rows": null,
            "right": null,
            "justify_content": null,
            "_view_module": "@jupyter-widgets/base",
            "overflow": null,
            "_model_module_version": "1.2.0",
            "_view_count": null,
            "flex_flow": null,
            "width": null,
            "min_width": null,
            "border": null,
            "align_items": null,
            "bottom": null,
            "_model_module": "@jupyter-widgets/base",
            "top": null,
            "grid_column": null,
            "overflow_y": null,
            "overflow_x": null,
            "grid_auto_flow": null,
            "grid_area": null,
            "grid_template_columns": null,
            "flex": null,
            "_model_name": "LayoutModel",
            "justify_items": null,
            "grid_row": null,
            "max_height": null,
            "align_content": null,
            "visibility": null,
            "align_self": null,
            "height": null,
            "min_height": null,
            "padding": null,
            "grid_auto_rows": null,
            "grid_gap": null,
            "max_width": null,
            "order": null,
            "_view_module_version": "1.2.0",
            "grid_template_areas": null,
            "object_position": null,
            "object_fit": null,
            "grid_auto_columns": null,
            "margin": null,
            "display": null,
            "left": null
          }
        },
        "8470f6a63d6447e080b3f3296ab2e2e5": {
          "model_module": "@jupyter-widgets/controls",
          "model_name": "FloatProgressModel",
          "state": {
            "_view_name": "ProgressView",
            "style": "IPY_MODEL_e86d26cdd8984d68a1704acc1fc5d21d",
            "_dom_classes": [],
            "description": " 71%",
            "_model_name": "FloatProgressModel",
            "bar_style": "danger",
            "max": 2500,
            "_view_module": "@jupyter-widgets/controls",
            "_model_module_version": "1.5.0",
            "value": 1772,
            "_view_count": null,
            "_view_module_version": "1.5.0",
            "orientation": "horizontal",
            "min": 0,
            "description_tooltip": null,
            "_model_module": "@jupyter-widgets/controls",
            "layout": "IPY_MODEL_a705c64de33d4b968b671df7e53e925b"
          }
        },
        "14d6ccefca4c4668b29f1673ee931d26": {
          "model_module": "@jupyter-widgets/controls",
          "model_name": "HTMLModel",
          "state": {
            "_view_name": "HTMLView",
            "style": "IPY_MODEL_f3a976c0543f405eb2149cd5708aa864",
            "_dom_classes": [],
            "description": "",
            "_model_name": "HTMLModel",
            "placeholder": "​",
            "_view_module": "@jupyter-widgets/controls",
            "_model_module_version": "1.5.0",
            "value": " 1772/2500 [00:05&lt;00:00, 17719.55 examples/s]",
            "_view_count": null,
            "_view_module_version": "1.5.0",
            "description_tooltip": null,
            "_model_module": "@jupyter-widgets/controls",
            "layout": "IPY_MODEL_18c18628259f425c913afd2af828fdda"
          }
        },
        "e86d26cdd8984d68a1704acc1fc5d21d": {
          "model_module": "@jupyter-widgets/controls",
          "model_name": "ProgressStyleModel",
          "state": {
            "_view_name": "StyleView",
            "_model_name": "ProgressStyleModel",
            "description_width": "initial",
            "_view_module": "@jupyter-widgets/base",
            "_model_module_version": "1.5.0",
            "_view_count": null,
            "_view_module_version": "1.2.0",
            "bar_color": null,
            "_model_module": "@jupyter-widgets/controls"
          }
        },
        "a705c64de33d4b968b671df7e53e925b": {
          "model_module": "@jupyter-widgets/base",
          "model_name": "LayoutModel",
          "state": {
            "_view_name": "LayoutView",
            "grid_template_rows": null,
            "right": null,
            "justify_content": null,
            "_view_module": "@jupyter-widgets/base",
            "overflow": null,
            "_model_module_version": "1.2.0",
            "_view_count": null,
            "flex_flow": null,
            "width": null,
            "min_width": null,
            "border": null,
            "align_items": null,
            "bottom": null,
            "_model_module": "@jupyter-widgets/base",
            "top": null,
            "grid_column": null,
            "overflow_y": null,
            "overflow_x": null,
            "grid_auto_flow": null,
            "grid_area": null,
            "grid_template_columns": null,
            "flex": null,
            "_model_name": "LayoutModel",
            "justify_items": null,
            "grid_row": null,
            "max_height": null,
            "align_content": null,
            "visibility": null,
            "align_self": null,
            "height": null,
            "min_height": null,
            "padding": null,
            "grid_auto_rows": null,
            "grid_gap": null,
            "max_width": null,
            "order": null,
            "_view_module_version": "1.2.0",
            "grid_template_areas": null,
            "object_position": null,
            "object_fit": null,
            "grid_auto_columns": null,
            "margin": null,
            "display": null,
            "left": null
          }
        },
        "f3a976c0543f405eb2149cd5708aa864": {
          "model_module": "@jupyter-widgets/controls",
          "model_name": "DescriptionStyleModel",
          "state": {
            "_view_name": "StyleView",
            "_model_name": "DescriptionStyleModel",
            "description_width": "",
            "_view_module": "@jupyter-widgets/base",
            "_model_module_version": "1.5.0",
            "_view_count": null,
            "_view_module_version": "1.2.0",
            "_model_module": "@jupyter-widgets/controls"
          }
        },
        "18c18628259f425c913afd2af828fdda": {
          "model_module": "@jupyter-widgets/base",
          "model_name": "LayoutModel",
          "state": {
            "_view_name": "LayoutView",
            "grid_template_rows": null,
            "right": null,
            "justify_content": null,
            "_view_module": "@jupyter-widgets/base",
            "overflow": null,
            "_model_module_version": "1.2.0",
            "_view_count": null,
            "flex_flow": null,
            "width": null,
            "min_width": null,
            "border": null,
            "align_items": null,
            "bottom": null,
            "_model_module": "@jupyter-widgets/base",
            "top": null,
            "grid_column": null,
            "overflow_y": null,
            "overflow_x": null,
            "grid_auto_flow": null,
            "grid_area": null,
            "grid_template_columns": null,
            "flex": null,
            "_model_name": "LayoutModel",
            "justify_items": null,
            "grid_row": null,
            "max_height": null,
            "align_content": null,
            "visibility": null,
            "align_self": null,
            "height": null,
            "min_height": null,
            "padding": null,
            "grid_auto_rows": null,
            "grid_gap": null,
            "max_width": null,
            "order": null,
            "_view_module_version": "1.2.0",
            "grid_template_areas": null,
            "object_position": null,
            "object_fit": null,
            "grid_auto_columns": null,
            "margin": null,
            "display": null,
            "left": null
          }
        }
      }
    }
  },
  "cells": [
    {
      "cell_type": "markdown",
      "metadata": {
        "id": "04BBpu_DHXrN"
      },
      "source": [
        "# spoken_digitデータセットを例にした再帰型ニューラルネットワークのいろいろ\n",
        "\n"
      ]
    },
    {
      "cell_type": "markdown",
      "metadata": {
        "id": "YdgzqV2IfcU6"
      },
      "source": [
        "`spoken_digit`データセットを例にいろいろな再帰型ニューラルネットワークの構築方法を学びます。\n",
        "\n",
        "初めに、このコードを実行するために必要なモジュールをインストール･インポートします。"
      ]
    },
    {
      "cell_type": "code",
      "metadata": {
        "colab": {
          "base_uri": "https://localhost:8080/"
        },
        "id": "B-iAYSkstJZ6",
        "outputId": "d1e8dfb9-bf7d-4803-a161-f940391b1ed4"
      },
      "source": [
        "!pip install pydub"
      ],
      "execution_count": 1,
      "outputs": [
        {
          "output_type": "stream",
          "text": [
            "Collecting pydub\n",
            "  Downloading https://files.pythonhosted.org/packages/a6/53/d78dc063216e62fc55f6b2eebb447f6a4b0a59f55c8406376f76bf959b08/pydub-0.25.1-py2.py3-none-any.whl\n",
            "Installing collected packages: pydub\n",
            "Successfully installed pydub-0.25.1\n"
          ],
          "name": "stdout"
        }
      ]
    },
    {
      "cell_type": "code",
      "metadata": {
        "id": "7sE2hJsssMJQ"
      },
      "source": [
        "import tensorflow_datasets as tfds\n",
        "import matplotlib.pyplot as plt\n",
        "import numpy as np\n",
        "import tensorflow as tf"
      ],
      "execution_count": 2,
      "outputs": []
    },
    {
      "cell_type": "markdown",
      "metadata": {
        "id": "zNphqOprufuA"
      },
      "source": [
        "## データセットの読込と中身の確認"
      ]
    },
    {
      "cell_type": "markdown",
      "metadata": {
        "id": "3aYnec6kfpqT"
      },
      "source": [
        "`spoken_digit`データセットは、`mnist`の音声版です。\n",
        "データの特徴は、\n",
        "\n",
        "\n",
        "*   **長さがバラバラ**の2500個の音声ファイルが入っています。\n",
        "*   それぞれの音声ファイルは、0から9の数字を読み上げたものです。\n",
        "*   5人の話者が、各数字を50回ずつ読み上げています。\n",
        "*   各音声ファイルには、対応する数字がラベルとして収録されています。\n",
        "\n"
      ]
    },
    {
      "cell_type": "markdown",
      "metadata": {
        "id": "IUA1IHLhgZCS"
      },
      "source": [
        "データセットの読込は、`tensorflow_datasets`を使って行います。`tensorflow_datasets`は予めある程度の前処理を行ったデータを手軽にダウンロード･準備･使用することができるライブラリです。\n",
        "\n",
        "ライブラリの機能で、ダウンロードしたデータセットを、シャッフルすることや、分割することができます。\n",
        "\n",
        "ここでは、データセットの全体の、\n",
        "\n",
        "\n",
        "*   70%をトレーニング用\n",
        "*   15%を検証用\n",
        "*   15%をテスト用\n",
        "\n",
        "として分割します。\n",
        "\n"
      ]
    },
    {
      "cell_type": "code",
      "metadata": {
        "id": "_IFdoaIVsmdw",
        "colab": {
          "base_uri": "https://localhost:8080/",
          "height": 321,
          "referenced_widgets": [
            "7a31be8b33c945b285293e24329593b4",
            "147c95c545754f31bdf75f60e6d509d0",
            "924bcc643658454b8a32a94132014b3c",
            "d03e3e4430f249269f246f828e1ba3e5",
            "17a7bfa54a29488b8d00e0c17ab91570",
            "c99d5d2da3bd487bba476f7c4b78cafd",
            "283f762427804d37bcd793fd1be9b227",
            "28f21c345c804597a74fed737170b0e3",
            "d5ab38d297ec45f189ba38a821988b2a",
            "807f05f80012476f8b64a5144c71177a",
            "bf31012c290a4f0ea1a16a303b910661",
            "7784b49a766d4ab59506ae35f0e8576f",
            "d10f902004774bbe86e26848547c6d02",
            "b6822465f2304efe8cd702b20deca1ab",
            "83b4d9abb8d14f4cb809354e672dd54c",
            "33e6b061b5ff492e9a5498b55fb41410",
            "a7c6cfed3808411f9cf7a8c6148aa814",
            "af14297b1ffe40e2bb28f59a4a0e466a",
            "3fdd853e5add4b69aae84232fdc9443c",
            "defca4806bc04875a1e041058478e950",
            "dd72fa04e69f4fec869abc248cd11a02",
            "2a03b7003ce8416baa692fbcff29acda",
            "6cb984f788804581ba435d395440b0fe",
            "3a87b0eddf5946469e871d5bbc24e42c",
            "f06350ecff6646bcb8c61ae55e5e568d",
            "56480470426f425dac14c2444a621f2c",
            "bccb24f1489645659eb796108211d408",
            "cabe64c126e74dbeb671e2c708e4dcf9",
            "094f715ccf6f49b08523a7bbc0e5a42f",
            "184774a8cc0642dbb626006b4224bcea",
            "ff20053ca8ba4cc5b3e8d0764b038b8c",
            "7d8ddcd6323c427bb876457dbf03e7e9",
            "e4affa132d9f4449a389c01baeb4b80b",
            "3833700de18a4b1499ba3410946373a2",
            "8470f6a63d6447e080b3f3296ab2e2e5",
            "14d6ccefca4c4668b29f1673ee931d26",
            "e86d26cdd8984d68a1704acc1fc5d21d",
            "a705c64de33d4b968b671df7e53e925b",
            "f3a976c0543f405eb2149cd5708aa864",
            "18c18628259f425c913afd2af828fdda"
          ]
        },
        "outputId": "9c565f8c-10cd-40ee-bfd2-55a8257448ec"
      },
      "source": [
        "dataset_train, dataset_valid, dataset_test = tfds.load('spoken_digit', split=['train[:70%]', 'train[70%:85%]', 'train[85%:]'], shuffle_files=True)"
      ],
      "execution_count": 3,
      "outputs": [
        {
          "output_type": "stream",
          "text": [
            "\u001b[1mDownloading and preparing dataset spoken_digit/1.0.9 (download: 11.42 MiB, generated: 45.68 MiB, total: 57.10 MiB) to /root/tensorflow_datasets/spoken_digit/1.0.9...\u001b[0m\n"
          ],
          "name": "stdout"
        },
        {
          "output_type": "display_data",
          "data": {
            "application/vnd.jupyter.widget-view+json": {
              "model_id": "7a31be8b33c945b285293e24329593b4",
              "version_minor": 0,
              "version_major": 2
            },
            "text/plain": [
              "HBox(children=(FloatProgress(value=1.0, bar_style='info', description='Dl Completed...', max=1.0, style=Progre…"
            ]
          },
          "metadata": {
            "tags": []
          }
        },
        {
          "output_type": "display_data",
          "data": {
            "application/vnd.jupyter.widget-view+json": {
              "model_id": "d5ab38d297ec45f189ba38a821988b2a",
              "version_minor": 0,
              "version_major": 2
            },
            "text/plain": [
              "HBox(children=(FloatProgress(value=1.0, bar_style='info', description='Dl Size...', max=1.0, style=ProgressSty…"
            ]
          },
          "metadata": {
            "tags": []
          }
        },
        {
          "output_type": "display_data",
          "data": {
            "application/vnd.jupyter.widget-view+json": {
              "model_id": "a7c6cfed3808411f9cf7a8c6148aa814",
              "version_minor": 0,
              "version_major": 2
            },
            "text/plain": [
              "HBox(children=(FloatProgress(value=1.0, bar_style='info', description='Extraction completed...', max=1.0, styl…"
            ]
          },
          "metadata": {
            "tags": []
          }
        },
        {
          "output_type": "stream",
          "text": [
            "\n",
            "\n",
            "\n",
            "\n",
            "\n",
            "\n"
          ],
          "name": "stdout"
        },
        {
          "output_type": "display_data",
          "data": {
            "application/vnd.jupyter.widget-view+json": {
              "model_id": "f06350ecff6646bcb8c61ae55e5e568d",
              "version_minor": 0,
              "version_major": 2
            },
            "text/plain": [
              "HBox(children=(FloatProgress(value=1.0, bar_style='info', max=1.0), HTML(value='')))"
            ]
          },
          "metadata": {
            "tags": []
          }
        },
        {
          "output_type": "stream",
          "text": [
            "\rShuffling and writing examples to /root/tensorflow_datasets/spoken_digit/1.0.9.incompleteY28FQ1/spoken_digit-train.tfrecord\n"
          ],
          "name": "stdout"
        },
        {
          "output_type": "display_data",
          "data": {
            "application/vnd.jupyter.widget-view+json": {
              "model_id": "e4affa132d9f4449a389c01baeb4b80b",
              "version_minor": 0,
              "version_major": 2
            },
            "text/plain": [
              "HBox(children=(FloatProgress(value=0.0, max=2500.0), HTML(value='')))"
            ]
          },
          "metadata": {
            "tags": []
          }
        },
        {
          "output_type": "stream",
          "text": [
            "\u001b[1mDataset spoken_digit downloaded and prepared to /root/tensorflow_datasets/spoken_digit/1.0.9. Subsequent calls will reuse this data.\u001b[0m\n"
          ],
          "name": "stdout"
        }
      ]
    },
    {
      "cell_type": "markdown",
      "metadata": {
        "id": "7D365ZauhEkw"
      },
      "source": [
        "まず初めに、ダウンロードしたデータセットの中身を詳しく調べます。データセットは、`tf.data.Dataset`形式で、Tensorflowで学習を行うときに最適化された仕組みで保存されています。\n",
        "\n",
        "1件だけデータを取り出しながら中身を確認します。`tf.data.Dataset`形式は次のコードで、データを読み取る準備をすることで、中身を取り出すことができるようになります。"
      ]
    },
    {
      "cell_type": "code",
      "metadata": {
        "id": "m6PPaA_qt175"
      },
      "source": [
        "original_iter = iter(dataset_train)"
      ],
      "execution_count": 4,
      "outputs": []
    },
    {
      "cell_type": "markdown",
      "metadata": {
        "id": "1wfyVX0PhaVF"
      },
      "source": [
        "1件だけデータを読み取ります。\n",
        "\n",
        "データには、Pythonの`dict`形式で、\n",
        "\n",
        "*   `audio`: 数千単位時間(サンプル時間;タイムステップ 非常に短い時間の音声)の音声データ\n",
        "*   `audio/filname`: 音声ファイルのファイル名\n",
        "*   `label`: 対応する数字のラベル\n",
        "\n",
        "の情報が含まれています。\n",
        "\n",
        "今回使用するのは、`audio`と`label`です。\n",
        "\n"
      ]
    },
    {
      "cell_type": "code",
      "metadata": {
        "colab": {
          "base_uri": "https://localhost:8080/"
        },
        "id": "7JVr3LjUtRMq",
        "outputId": "6636a14d-3069-48d6-b49e-5fd3ab345cb5"
      },
      "source": [
        "next(original_iter)"
      ],
      "execution_count": 5,
      "outputs": [
        {
          "output_type": "execute_result",
          "data": {
            "text/plain": [
              "{'audio': <tf.Tensor: shape=(1525,), dtype=int64, numpy=array([   0,    0, -256, ..., -512, -256, -512])>,\n",
              " 'audio/filename': <tf.Tensor: shape=(), dtype=string, numpy=b'2_nicolas_23.wav'>,\n",
              " 'label': <tf.Tensor: shape=(), dtype=int64, numpy=2>}"
            ]
          },
          "metadata": {
            "tags": []
          },
          "execution_count": 5
        }
      ]
    },
    {
      "cell_type": "markdown",
      "metadata": {
        "id": "8BXRl9C7iFRj"
      },
      "source": [
        "ここで、`audio`について詳しくデータを見ます。`audio`はモデルの入力データになります。\n",
        "\n",
        "`matplotlib`を使うことで、音声データの波形を可視化することができます。横方向(x軸方向)に時間、縦方向(y軸方向)に強弱が示されます。\n",
        "\n",
        "数千単位時間分でサンプリングされた音声データであることが確認できます。"
      ]
    },
    {
      "cell_type": "code",
      "metadata": {
        "colab": {
          "base_uri": "https://localhost:8080/",
          "height": 285
        },
        "id": "smtxmtopwILW",
        "outputId": "de31d5a8-5006-4427-c3de-551a8194e057"
      },
      "source": [
        "plt.plot(next(original_iter)['audio'])"
      ],
      "execution_count": 6,
      "outputs": [
        {
          "output_type": "execute_result",
          "data": {
            "text/plain": [
              "[<matplotlib.lines.Line2D at 0x7fd108f71c90>]"
            ]
          },
          "metadata": {
            "tags": []
          },
          "execution_count": 6
        },
        {
          "output_type": "display_data",
          "data": {
            "image/png": "[encoded data removed]",
            "text/plain": [
              "<Figure size 432x288 with 1 Axes>"
            ]
          },
          "metadata": {
            "tags": [],
            "needs_background": "light"
          }
        }
      ]
    },
    {
      "cell_type": "markdown",
      "metadata": {
        "id": "RYcQ2weZujSs"
      },
      "source": [
        "## データの前処理"
      ]
    },
    {
      "cell_type": "markdown",
      "metadata": {
        "id": "jCcygfpxime4"
      },
      "source": [
        "データをモデルに入力できるようにするため、データに前処理を行います。\n",
        "\n",
        "今回は、音声データをすべて1000単位時間にそろえます。音声データの時間をそろえるには、長すぎるデータは途中で切り落とし、短すぎるデータには、後ろに0を付け足すことで長さを揃えます。\n",
        "\n",
        "また、ミニバッチによる学習を行うため、8個でミニバッチを構築します。"
      ]
    },
    {
      "cell_type": "code",
      "metadata": {
        "id": "jc3Wz3tzdy9W"
      },
      "source": [
        "NUM_DATA_POINTS = 1000\n",
        "BATCH_SIZE = 8"
      ],
      "execution_count": 7,
      "outputs": []
    },
    {
      "cell_type": "markdown",
      "metadata": {
        "id": "xdvofT76t1GP"
      },
      "source": [
        "`tf.data.Dataset`には、データセットの内容を編集する機能があります。データセットの中に含まれる1つ1つのデータに対して処理を行うには`.map()`関数を使います。\n",
        "\n",
        "ここでは、すべての音声データの長さを揃え、入力データと教師ラベルのペアにします。\n",
        "\n",
        "データセットを読み込むときに、学習用と検証用として分割して準備しました。そのため、データの長さを揃える処理についても、学習用と検証用のそれぞれに実行します。\n",
        "\n",
        "この処理によって、1サンプルに`audio`、`audio/filename`、`label`の3つのデータが含まれていたデータセットを、同じ長さの音声データと教師ラベルのペアに変換します。"
      ]
    },
    {
      "cell_type": "code",
      "metadata": {
        "id": "sflxbmg1N2FU",
        "colab": {
          "base_uri": "https://localhost:8080/"
        },
        "outputId": "dd4e6862-37c9-4d73-eb5d-4f9b4f6e9899"
      },
      "source": [
        "def cut_if_longer(el):\n",
        "  return (\n",
        "          tf.reshape(\n",
        "              tf.cond(\n",
        "                tf.greater(tf.shape(el['audio']), NUM_DATA_POINTS),\n",
        "                true_fn=lambda: tf.slice(el['audio'], begin=[0], size=[NUM_DATA_POINTS]),\n",
        "                false_fn=lambda: tf.slice(tf.concat([el['audio'], tf.zeros(NUM_DATA_POINTS, tf.int64)], axis=0), begin=[0], size=[NUM_DATA_POINTS])\n",
        "              ),\n",
        "              shape=(-1, 1)\n",
        "          ),\n",
        "          [el['label']]\n",
        "        )\n",
        "\n",
        "\n",
        "dataset_prep_train = dataset_train.map(cut_if_longer).batch(BATCH_SIZE)\n",
        "dataset_prep_valid = dataset_valid.map(cut_if_longer).batch(BATCH_SIZE)\n",
        "\n",
        "sample = next(iter(dataset_prep_valid))\n",
        "sample"
      ],
      "execution_count": 8,
      "outputs": [
        {
          "output_type": "execute_result",
          "data": {
            "text/plain": [
              "(<tf.Tensor: shape=(8, 1000, 1), dtype=int64, numpy=\n",
              " array([[[    0],\n",
              "         [ -256],\n",
              "         [ -256],\n",
              "         ...,\n",
              "         [-1792],\n",
              "         [-1024],\n",
              "         [    0]],\n",
              " \n",
              "        [[   -8],\n",
              "         [   -9],\n",
              "         [  -14],\n",
              "         ...,\n",
              "         [  139],\n",
              "         [  193],\n",
              "         [  192]],\n",
              " \n",
              "        [[    4],\n",
              "         [    5],\n",
              "         [   10],\n",
              "         ...,\n",
              "         [  149],\n",
              "         [  145],\n",
              "         [  117]],\n",
              " \n",
              "        ...,\n",
              " \n",
              "        [[   -6],\n",
              "         [   -5],\n",
              "         [   -3],\n",
              "         ...,\n",
              "         [    1],\n",
              "         [  249],\n",
              "         [  559]],\n",
              " \n",
              "        [[ -390],\n",
              "         [ -639],\n",
              "         [ -797],\n",
              "         ...,\n",
              "         [ 1138],\n",
              "         [-1044],\n",
              "         [-2135]],\n",
              " \n",
              "        [[ -256],\n",
              "         [ -256],\n",
              "         [ -512],\n",
              "         ...,\n",
              "         [ -512],\n",
              "         [ -512],\n",
              "         [ -768]]])>, <tf.Tensor: shape=(8, 1), dtype=int64, numpy=\n",
              " array([[6],\n",
              "        [7],\n",
              "        [7],\n",
              "        [5],\n",
              "        [1],\n",
              "        [9],\n",
              "        [4],\n",
              "        [4]])>)"
            ]
          },
          "metadata": {
            "tags": []
          },
          "execution_count": 8
        }
      ]
    },
    {
      "cell_type": "markdown",
      "metadata": {
        "id": "ZEsjN-YFvkPE"
      },
      "source": [
        "変換処理を行った後のデータセットで、1サンプルの音声データを確認します。\n",
        "\n",
        "変換処理を行った後は、1000単位時間に長さが切られています。\n",
        "\n",
        "なお、データを取り出すときに、`sample[0][0]`として取り出しています。これは、`sample`はミニバッチ1つを指します。1つ目の`[0]`は8サンプルの入ったミニバッチから0番目を取り出すことを意味します。\n",
        "\n",
        "変換後の1つのサンプルは、タプルで、0番目には音声データが、1番目に教師ラベルがそれぞれ含まれた形式です。そのため、2つ目の`[0]`で1サンプル中のタプル内、0番目の音声データを読み出していることになります。"
      ]
    },
    {
      "cell_type": "code",
      "metadata": {
        "colab": {
          "base_uri": "https://localhost:8080/",
          "height": 283
        },
        "id": "IieuGe-WfUsj",
        "outputId": "7c0d8565-5a50-4934-df8c-c1586bbbb9a4"
      },
      "source": [
        "plt.plot(sample[0][0])"
      ],
      "execution_count": 9,
      "outputs": [
        {
          "output_type": "execute_result",
          "data": {
            "text/plain": [
              "[<matplotlib.lines.Line2D at 0x7fd100150b10>]"
            ]
          },
          "metadata": {
            "tags": []
          },
          "execution_count": 9
        },
        {
          "output_type": "display_data",
          "data": {
            "image/png": "[encoded data removed]",
            "text/plain": [
              "<Figure size 432x288 with 1 Axes>"
            ]
          },
          "metadata": {
            "tags": [],
            "needs_background": "light"
          }
        }
      ]
    },
    {
      "cell_type": "markdown",
      "metadata": {
        "id": "5K4WQWWraEzC"
      },
      "source": [
        "## いろいろな再帰型ニューラルネットワーク"
      ]
    },
    {
      "cell_type": "markdown",
      "metadata": {
        "id": "aDqTH96txZ_a"
      },
      "source": [
        "データが準備できたので、様々なモデルがデータに対して適用できることを確認しましょう。ここでは、TensorflowのKeras APIを使って、簡単なモデルを構築していきます。"
      ]
    },
    {
      "cell_type": "markdown",
      "metadata": {
        "id": "nxOym-qcZSnb"
      },
      "source": [
        "### 小規模な畳み込みネットワーク"
      ]
    },
    {
      "cell_type": "markdown",
      "metadata": {
        "id": "GAYcq3xnzoXK"
      },
      "source": [
        "最初のモデルでは、1次元の畳み込み演算を用います。このモデルでは1層の畳み込み層とMaxPooling層を持ちます。\n",
        "\n",
        "このモデルの畳み込み層は、4要素に対して、32個のフィルターで特徴量を抽出します。\n",
        "\n",
        "また、畳み込み層から出力層に至る接続には、GlobalAveragePooling層で行っています。この層は、Flatten層と同様に、複数のフィルターで捉えられたデータを1列に抽出し、全結合層への接続を可能にします。"
      ]
    },
    {
      "cell_type": "code",
      "metadata": {
        "id": "M_GVCsuq2t06",
        "colab": {
          "base_uri": "https://localhost:8080/"
        },
        "outputId": "1e861cc5-d73d-45d9-cc17-d7af4f43150e"
      },
      "source": [
        "import tensorflow as tf\n",
        "from tensorflow.keras.models import Sequential\n",
        "from tensorflow.keras import layers\n",
        "\n",
        "tf.keras.backend.clear_session()\n",
        "\n",
        "model_1 = tf.keras.models.Sequential()\n",
        "\n",
        "\n",
        "model_1.add(layers.Input((NUM_DATA_POINTS, 1)))\n",
        "\n",
        "model_1.add(layers.Conv1D(32, 4, strides=2, activation='relu'))\n",
        "model_1.add(layers.MaxPooling1D(2))\n",
        "\n",
        "model_1.add(layers.GlobalAveragePooling1D())\n",
        "\n",
        "model_1.add(layers.Dense(10, activation='softmax'))\n",
        "\n",
        "model_1.summary()\n",
        "\n",
        "\n",
        "model_1.predict(sample[0])"
      ],
      "execution_count": 10,
      "outputs": [
        {
          "output_type": "stream",
          "text": [
            "WARNING:tensorflow:Please add `keras.layers.InputLayer` instead of `keras.Input` to Sequential model. `keras.Input` is intended to be used by Functional model.\n"
          ],
          "name": "stdout"
        },
        {
          "output_type": "stream",
          "text": [
            "WARNING:tensorflow:Please add `keras.layers.InputLayer` instead of `keras.Input` to Sequential model. `keras.Input` is intended to be used by Functional model.\n"
          ],
          "name": "stderr"
        },
        {
          "output_type": "stream",
          "text": [
            "Model: \"sequential\"\n",
            "_________________________________________________________________\n",
            "Layer (type)                 Output Shape              Param #   \n",
            "=================================================================\n",
            "conv1d (Conv1D)              (None, 499, 32)           160       \n",
            "_________________________________________________________________\n",
            "max_pooling1d (MaxPooling1D) (None, 249, 32)           0         \n",
            "_________________________________________________________________\n",
            "global_average_pooling1d (Gl (None, 32)                0         \n",
            "_________________________________________________________________\n",
            "dense (Dense)                (None, 10)                330       \n",
            "=================================================================\n",
            "Total params: 490\n",
            "Trainable params: 490\n",
            "Non-trainable params: 0\n",
            "_________________________________________________________________\n"
          ],
          "name": "stdout"
        },
        {
          "output_type": "execute_result",
          "data": {
            "text/plain": [
              "array([[0.0000000e+00, 0.0000000e+00, 1.0000000e+00, 0.0000000e+00,\n",
              "        0.0000000e+00, 0.0000000e+00, 9.6795603e-36, 0.0000000e+00,\n",
              "        0.0000000e+00, 0.0000000e+00],\n",
              "       [1.4597011e-13, 4.5790035e-05, 9.9995005e-01, 1.5590024e-29,\n",
              "        0.0000000e+00, 0.0000000e+00, 4.2041083e-06, 1.2288215e-20,\n",
              "        2.8004199e-38, 4.5006315e-17],\n",
              "       [3.7429462e-24, 1.4031417e-09, 1.0000000e+00, 0.0000000e+00,\n",
              "        0.0000000e+00, 0.0000000e+00, 1.3464415e-17, 0.0000000e+00,\n",
              "        0.0000000e+00, 0.0000000e+00],\n",
              "       [3.7813898e-11, 2.3245056e-12, 1.0000000e+00, 0.0000000e+00,\n",
              "        0.0000000e+00, 0.0000000e+00, 9.9544424e-16, 1.5486779e-21,\n",
              "        0.0000000e+00, 1.1014176e-18],\n",
              "       [0.0000000e+00, 0.0000000e+00, 1.0000000e+00, 0.0000000e+00,\n",
              "        0.0000000e+00, 0.0000000e+00, 0.0000000e+00, 0.0000000e+00,\n",
              "        0.0000000e+00, 0.0000000e+00],\n",
              "       [1.1259983e-10, 8.9335614e-08, 9.9999988e-01, 0.0000000e+00,\n",
              "        0.0000000e+00, 0.0000000e+00, 2.1095543e-12, 2.1182433e-23,\n",
              "        0.0000000e+00, 2.0532530e-22],\n",
              "       [0.0000000e+00, 0.0000000e+00, 1.0000000e+00, 0.0000000e+00,\n",
              "        0.0000000e+00, 0.0000000e+00, 0.0000000e+00, 0.0000000e+00,\n",
              "        0.0000000e+00, 0.0000000e+00],\n",
              "       [0.0000000e+00, 0.0000000e+00, 1.0000000e+00, 0.0000000e+00,\n",
              "        0.0000000e+00, 0.0000000e+00, 0.0000000e+00, 0.0000000e+00,\n",
              "        0.0000000e+00, 0.0000000e+00]], dtype=float32)"
            ]
          },
          "metadata": {
            "tags": []
          },
          "execution_count": 10
        }
      ]
    },
    {
      "cell_type": "markdown",
      "metadata": {
        "id": "IqoxoU7EB9mh"
      },
      "source": [
        "このモデルを学習できるように準備します。`.compile()`関数で、ロス関数の定義、オプティマイザーの設定を行います。\n",
        "\n",
        "その後、`.fit()`関数で準備した学習用データと検証用データを渡し学習を行います。"
      ]
    },
    {
      "cell_type": "code",
      "metadata": {
        "colab": {
          "base_uri": "https://localhost:8080/"
        },
        "id": "p-vf_FSI0X6z",
        "outputId": "84de3da1-5f92-40d9-9452-118798e872de"
      },
      "source": [
        "model_1.compile(\n",
        "    loss=tf.keras.losses.SparseCategoricalCrossentropy(),\n",
        "    optimizer=tf.keras.optimizers.Adam(),\n",
        "    metrics=['accuracy']\n",
        ")\n",
        "\n",
        "model_1.fit(\n",
        "    dataset_prep_train,\n",
        "    validation_data=dataset_prep_valid,\n",
        ")"
      ],
      "execution_count": 11,
      "outputs": [
        {
          "output_type": "stream",
          "text": [
            "219/219 [==============================] - 3s 5ms/step - loss: 73.7428 - accuracy: 0.1251 - val_loss: 33.0484 - val_accuracy: 0.1600\n"
          ],
          "name": "stdout"
        },
        {
          "output_type": "execute_result",
          "data": {
            "text/plain": [
              "<tensorflow.python.keras.callbacks.History at 0x7fd08a78cd10>"
            ]
          },
          "metadata": {
            "tags": []
          },
          "execution_count": 11
        }
      ]
    },
    {
      "cell_type": "markdown",
      "metadata": {
        "id": "zeNJhTYBEKAv"
      },
      "source": [
        "`.evaluate()`関数を用いることで、学習したモデルの状態を評価することができます。"
      ]
    },
    {
      "cell_type": "code",
      "metadata": {
        "id": "8b-tdWnW7DiE",
        "colab": {
          "base_uri": "https://localhost:8080/"
        },
        "outputId": "ccf5eb04-0a02-438c-eb78-4c9d4209c24c"
      },
      "source": [
        "print('loss / accuracy')\n",
        "model_1.evaluate(dataset_prep_valid)"
      ],
      "execution_count": 12,
      "outputs": [
        {
          "output_type": "stream",
          "text": [
            "loss / accuracy\n",
            "47/47 [==============================] - 0s 2ms/step - loss: 33.0484 - accuracy: 0.1600\n"
          ],
          "name": "stdout"
        },
        {
          "output_type": "execute_result",
          "data": {
            "text/plain": [
              "[33.04840850830078, 0.1599999964237213]"
            ]
          },
          "metadata": {
            "tags": []
          },
          "execution_count": 12
        }
      ]
    },
    {
      "cell_type": "markdown",
      "metadata": {
        "id": "MxRIoJvYa79r"
      },
      "source": [
        "### 単純RNNを使用したモデル"
      ]
    },
    {
      "cell_type": "markdown",
      "metadata": {
        "id": "qLisTzINEj_Z"
      },
      "source": [
        "次のモデルでは、単純なRNNを特徴量の抽出器として用います。実験に用いるのは、RNNレイヤーの次に直接全結合層を配置したシンプルなモデルです。"
      ]
    },
    {
      "cell_type": "code",
      "metadata": {
        "colab": {
          "base_uri": "https://localhost:8080/"
        },
        "id": "TWaKFSAva-mI",
        "outputId": "79a46cd7-4f1d-4b90-acd4-bede35047775"
      },
      "source": [
        "import tensorflow as tf\n",
        "from tensorflow.keras.models import Sequential\n",
        "from tensorflow.keras import layers\n",
        "\n",
        "\n",
        "\n",
        "tf.keras.backend.clear_session()\n",
        "\n",
        "model_2 = tf.keras.models.Sequential()\n",
        "\n",
        "model_2.add(layers.Input((NUM_DATA_POINTS, 1)))\n",
        "model_2.add(layers.SimpleRNN(128))\n",
        "\n",
        "model_2.add(layers.Dense(10, activation='softmax'))\n",
        "\n",
        "model_2.summary()\n",
        "\n",
        "\n",
        "model_2.predict(sample[0]).shape"
      ],
      "execution_count": 13,
      "outputs": [
        {
          "output_type": "stream",
          "text": [
            "WARNING:tensorflow:Please add `keras.layers.InputLayer` instead of `keras.Input` to Sequential model. `keras.Input` is intended to be used by Functional model.\n"
          ],
          "name": "stdout"
        },
        {
          "output_type": "stream",
          "text": [
            "WARNING:tensorflow:Please add `keras.layers.InputLayer` instead of `keras.Input` to Sequential model. `keras.Input` is intended to be used by Functional model.\n"
          ],
          "name": "stderr"
        },
        {
          "output_type": "stream",
          "text": [
            "Model: \"sequential\"\n",
            "_________________________________________________________________\n",
            "Layer (type)                 Output Shape              Param #   \n",
            "=================================================================\n",
            "simple_rnn (SimpleRNN)       (None, 128)               16640     \n",
            "_________________________________________________________________\n",
            "dense (Dense)                (None, 10)                1290      \n",
            "=================================================================\n",
            "Total params: 17,930\n",
            "Trainable params: 17,930\n",
            "Non-trainable params: 0\n",
            "_________________________________________________________________\n"
          ],
          "name": "stdout"
        },
        {
          "output_type": "execute_result",
          "data": {
            "text/plain": [
              "(8, 10)"
            ]
          },
          "metadata": {
            "tags": []
          },
          "execution_count": 13
        }
      ]
    },
    {
      "cell_type": "markdown",
      "metadata": {
        "id": "t3u3t4HaEssv"
      },
      "source": [
        "単純RNNを用いたモデルは、計算時間が長くかかります。\n",
        "\n",
        "定義したモデルの学習方法は、畳み込みニューラルネットワークの時と同様です。"
      ]
    },
    {
      "cell_type": "code",
      "metadata": {
        "colab": {
          "base_uri": "https://localhost:8080/"
        },
        "id": "sLDD3vs6cQal",
        "outputId": "307512ee-4708-4f7f-94be-cd11c904f06a"
      },
      "source": [
        "model_2.compile(\n",
        "    loss=tf.keras.losses.SparseCategoricalCrossentropy(),\n",
        "    optimizer=tf.keras.optimizers.Adam(),\n",
        "    metrics=['accuracy']\n",
        ")\n",
        "\n",
        "model_2.fit(\n",
        "    dataset_prep_train,\n",
        "    validation_data=dataset_prep_valid,\n",
        ")"
      ],
      "execution_count": 14,
      "outputs": [
        {
          "output_type": "stream",
          "text": [
            "219/219 [==============================] - 131s 596ms/step - loss: 2.4004 - accuracy: 0.1034 - val_loss: 2.3508 - val_accuracy: 0.1200\n"
          ],
          "name": "stdout"
        },
        {
          "output_type": "execute_result",
          "data": {
            "text/plain": [
              "<tensorflow.python.keras.callbacks.History at 0x7fd0bc08f410>"
            ]
          },
          "metadata": {
            "tags": []
          },
          "execution_count": 14
        }
      ]
    },
    {
      "cell_type": "markdown",
      "metadata": {
        "id": "X2qeBE6HdEwS"
      },
      "source": [
        "### GRUを使用したモデル"
      ]
    },
    {
      "cell_type": "markdown",
      "metadata": {
        "id": "SvR8CVFsE8Aj"
      },
      "source": [
        "RNNやLSTMで問題となっていた計算量を減らすために工夫されたGRUを使ってモデルを定義します。単純RNNのときと同様に、直接全結合層を接続します。"
      ]
    },
    {
      "cell_type": "code",
      "metadata": {
        "colab": {
          "base_uri": "https://localhost:8080/"
        },
        "id": "ZllTgOvrdIJY",
        "outputId": "e26af8a5-e847-4bf2-9330-83ce348a463a"
      },
      "source": [
        "import tensorflow as tf\n",
        "from tensorflow.keras.models import Sequential\n",
        "from tensorflow.keras import layers\n",
        "\n",
        "\n",
        "\n",
        "tf.keras.backend.clear_session()\n",
        "\n",
        "model_3 = tf.keras.models.Sequential()\n",
        "\n",
        "model_3.add(layers.Input((NUM_DATA_POINTS, 1)))\n",
        "model_3.add(layers.GRU(128))\n",
        "\n",
        "model_3.add(layers.Dense(10, activation='softmax'))\n",
        "\n",
        "model_3.summary()\n",
        "\n",
        "\n",
        "model_3.predict(sample[0]).shape"
      ],
      "execution_count": 15,
      "outputs": [
        {
          "output_type": "stream",
          "text": [
            "WARNING:tensorflow:Please add `keras.layers.InputLayer` instead of `keras.Input` to Sequential model. `keras.Input` is intended to be used by Functional model.\n"
          ],
          "name": "stdout"
        },
        {
          "output_type": "stream",
          "text": [
            "WARNING:tensorflow:Please add `keras.layers.InputLayer` instead of `keras.Input` to Sequential model. `keras.Input` is intended to be used by Functional model.\n"
          ],
          "name": "stderr"
        },
        {
          "output_type": "stream",
          "text": [
            "Model: \"sequential\"\n",
            "_________________________________________________________________\n",
            "Layer (type)                 Output Shape              Param #   \n",
            "=================================================================\n",
            "gru (GRU)                    (None, 128)               50304     \n",
            "_________________________________________________________________\n",
            "dense (Dense)                (None, 10)                1290      \n",
            "=================================================================\n",
            "Total params: 51,594\n",
            "Trainable params: 51,594\n",
            "Non-trainable params: 0\n",
            "_________________________________________________________________\n"
          ],
          "name": "stdout"
        },
        {
          "output_type": "execute_result",
          "data": {
            "text/plain": [
              "(8, 10)"
            ]
          },
          "metadata": {
            "tags": []
          },
          "execution_count": 15
        }
      ]
    },
    {
      "cell_type": "markdown",
      "metadata": {
        "id": "YJQITc3KFV7d"
      },
      "source": [
        "モデルの学習にかかる時間は計算量が少ないため、単純RNNに比べるとずっと短くなります。"
      ]
    },
    {
      "cell_type": "code",
      "metadata": {
        "colab": {
          "base_uri": "https://localhost:8080/"
        },
        "id": "ssCqOUuSdLCk",
        "outputId": "95603229-cffc-434e-8cf3-ecc104d66db4"
      },
      "source": [
        "model_3.compile(\n",
        "    loss=tf.keras.losses.SparseCategoricalCrossentropy(),\n",
        "    optimizer=tf.keras.optimizers.Adam(),\n",
        "    metrics=['accuracy']\n",
        ")\n",
        "\n",
        "model_3.fit(\n",
        "    dataset_prep_train,\n",
        "    validation_data=dataset_prep_valid,\n",
        ")"
      ],
      "execution_count": 16,
      "outputs": [
        {
          "output_type": "stream",
          "text": [
            "219/219 [==============================] - 10s 38ms/step - loss: 2.3616 - accuracy: 0.1074 - val_loss: 2.3092 - val_accuracy: 0.1307\n"
          ],
          "name": "stdout"
        },
        {
          "output_type": "execute_result",
          "data": {
            "text/plain": [
              "<tensorflow.python.keras.callbacks.History at 0x7fd07a8246d0>"
            ]
          },
          "metadata": {
            "tags": []
          },
          "execution_count": 16
        }
      ]
    },
    {
      "cell_type": "markdown",
      "metadata": {
        "id": "Mop435vpdXtE"
      },
      "source": [
        "### 双方向RNN(LSTM)を使用したモデル"
      ]
    },
    {
      "cell_type": "markdown",
      "metadata": {
        "id": "j1Ax27mvFsfU"
      },
      "source": [
        "最後に、双方向LSTMを用いたモデルを紹介します。Kerasで双方向に接続されたネットワークを定義するためには、系列データに対するレイヤーを`Bidirectional`レイヤーで準備することで、定義することができます。"
      ]
    },
    {
      "cell_type": "code",
      "metadata": {
        "colab": {
          "base_uri": "https://localhost:8080/"
        },
        "id": "Z3HUUuSTdWfK",
        "outputId": "b9b5dcc2-2126-40dd-e2d2-1f1fc3b6ea9a"
      },
      "source": [
        "import tensorflow as tf\n",
        "from tensorflow.keras.models import Sequential\n",
        "from tensorflow.keras import layers\n",
        "\n",
        "\n",
        "\n",
        "tf.keras.backend.clear_session()\n",
        "\n",
        "model_4 = tf.keras.models.Sequential()\n",
        "\n",
        "model_4.add(layers.Input((NUM_DATA_POINTS, 1)))\n",
        "model_4.add(layers.Bidirectional(layers.LSTM(64)))\n",
        "\n",
        "model_4.add(layers.Dense(10, activation='softmax'))\n",
        "\n",
        "model_4.summary()\n",
        "\n",
        "\n",
        "model_4.predict(sample[0]).shape"
      ],
      "execution_count": 19,
      "outputs": [
        {
          "output_type": "stream",
          "text": [
            "WARNING:tensorflow:Please add `keras.layers.InputLayer` instead of `keras.Input` to Sequential model. `keras.Input` is intended to be used by Functional model.\n"
          ],
          "name": "stdout"
        },
        {
          "output_type": "stream",
          "text": [
            "WARNING:tensorflow:Please add `keras.layers.InputLayer` instead of `keras.Input` to Sequential model. `keras.Input` is intended to be used by Functional model.\n"
          ],
          "name": "stderr"
        },
        {
          "output_type": "stream",
          "text": [
            "Model: \"sequential\"\n",
            "_________________________________________________________________\n",
            "Layer (type)                 Output Shape              Param #   \n",
            "=================================================================\n",
            "bidirectional (Bidirectional (None, 128)               33792     \n",
            "_________________________________________________________________\n",
            "dense (Dense)                (None, 10)                1290      \n",
            "=================================================================\n",
            "Total params: 35,082\n",
            "Trainable params: 35,082\n",
            "Non-trainable params: 0\n",
            "_________________________________________________________________\n",
            "WARNING:tensorflow:5 out of the last 5 calls to <function Model.make_predict_function.<locals>.predict_function at 0x7fd0b6b633b0> triggered tf.function retracing. Tracing is expensive and the excessive number of tracings could be due to (1) creating @tf.function repeatedly in a loop, (2) passing tensors with different shapes, (3) passing Python objects instead of tensors. For (1), please define your @tf.function outside of the loop. For (2), @tf.function has experimental_relax_shapes=True option that relaxes argument shapes that can avoid unnecessary retracing. For (3), please refer to https://www.tensorflow.org/guide/function#controlling_retracing and https://www.tensorflow.org/api_docs/python/tf/function for  more details.\n"
          ],
          "name": "stdout"
        },
        {
          "output_type": "stream",
          "text": [
            "WARNING:tensorflow:5 out of the last 5 calls to <function Model.make_predict_function.<locals>.predict_function at 0x7fd0b6b633b0> triggered tf.function retracing. Tracing is expensive and the excessive number of tracings could be due to (1) creating @tf.function repeatedly in a loop, (2) passing tensors with different shapes, (3) passing Python objects instead of tensors. For (1), please define your @tf.function outside of the loop. For (2), @tf.function has experimental_relax_shapes=True option that relaxes argument shapes that can avoid unnecessary retracing. For (3), please refer to https://www.tensorflow.org/guide/function#controlling_retracing and https://www.tensorflow.org/api_docs/python/tf/function for  more details.\n"
          ],
          "name": "stderr"
        },
        {
          "output_type": "execute_result",
          "data": {
            "text/plain": [
              "(8, 10)"
            ]
          },
          "metadata": {
            "tags": []
          },
          "execution_count": 19
        }
      ]
    },
    {
      "cell_type": "markdown",
      "metadata": {
        "id": "SBySz1heF-tS"
      },
      "source": [
        "学習方法は、これまでのモデルと同様に、`.compile()`を行い、`.fit()`に学習データを渡し実行します。"
      ]
    },
    {
      "cell_type": "code",
      "metadata": {
        "colab": {
          "base_uri": "https://localhost:8080/"
        },
        "id": "h8Iinz15dfXs",
        "outputId": "53634515-f320-4fa2-f978-c94221f25e49"
      },
      "source": [
        "model_4.compile(\n",
        "    loss=tf.keras.losses.SparseCategoricalCrossentropy(),\n",
        "    optimizer=tf.keras.optimizers.Adam(),\n",
        "    metrics=['accuracy']\n",
        ")\n",
        "\n",
        "model_4.fit(\n",
        "    dataset_prep_train,\n",
        "    validation_data=dataset_prep_valid,\n",
        ")"
      ],
      "execution_count": 20,
      "outputs": [
        {
          "output_type": "stream",
          "text": [
            "219/219 [==============================] - 15s 56ms/step - loss: 2.2837 - accuracy: 0.1406 - val_loss: 2.1704 - val_accuracy: 0.1867\n"
          ],
          "name": "stdout"
        },
        {
          "output_type": "execute_result",
          "data": {
            "text/plain": [
              "<tensorflow.python.keras.callbacks.History at 0x7fd0b69a2b50>"
            ]
          },
          "metadata": {
            "tags": []
          },
          "execution_count": 20
        }
      ]
    },
    {
      "cell_type": "markdown",
      "metadata": {
        "id": "w_SU45gIGKf3"
      },
      "source": [
        "この資料では、いろいろな要素を使った各モデルが学習できるところまでを確認しています。認識の精度や学習の調整は行われていません。実際のモデル構築では、学習の仕方やモデルの接続をより工夫することで、認識精度を向上させます。"
      ]
    },
    {
      "cell_type": "markdown",
      "metadata": {
        "id": "y8VD7ot3agn5"
      },
      "source": [
        "## 勾配のクリッピング"
      ]
    },
    {
      "cell_type": "markdown",
      "metadata": {
        "id": "NmBhurF6p-VF"
      },
      "source": [
        "Kerasを用いたモデルで、勾配クリッピングを行う。"
      ]
    },
    {
      "cell_type": "code",
      "metadata": {
        "colab": {
          "base_uri": "https://localhost:8080/"
        },
        "id": "BeJiDy0saixt",
        "outputId": "b1dc0f86-2820-4235-e48e-85ba7ed70649"
      },
      "source": [
        "import tensorflow as tf\n",
        "from tensorflow.keras.models import Sequential\n",
        "from tensorflow.keras import layers\n",
        "\n",
        "\n",
        "\n",
        "tf.keras.backend.clear_session()\n",
        "\n",
        "model_5 = tf.keras.models.Sequential()\n",
        "\n",
        "model_5.add(layers.Input((NUM_DATA_POINTS, 1)))\n",
        "model_5.add(layers.LSTM(64))\n",
        "\n",
        "model_5.add(layers.Dense(10, activation='softmax'))\n",
        "\n",
        "model_5.summary()\n",
        "\n",
        "\n",
        "model_5.predict(sample[0]).shape"
      ],
      "execution_count": 21,
      "outputs": [
        {
          "output_type": "stream",
          "text": [
            "WARNING:tensorflow:Please add `keras.layers.InputLayer` instead of `keras.Input` to Sequential model. `keras.Input` is intended to be used by Functional model.\n"
          ],
          "name": "stdout"
        },
        {
          "output_type": "stream",
          "text": [
            "WARNING:tensorflow:Please add `keras.layers.InputLayer` instead of `keras.Input` to Sequential model. `keras.Input` is intended to be used by Functional model.\n"
          ],
          "name": "stderr"
        },
        {
          "output_type": "stream",
          "text": [
            "Model: \"sequential\"\n",
            "_________________________________________________________________\n",
            "Layer (type)                 Output Shape              Param #   \n",
            "=================================================================\n",
            "lstm (LSTM)                  (None, 64)                16896     \n",
            "_________________________________________________________________\n",
            "dense (Dense)                (None, 10)                650       \n",
            "=================================================================\n",
            "Total params: 17,546\n",
            "Trainable params: 17,546\n",
            "Non-trainable params: 0\n",
            "_________________________________________________________________\n",
            "WARNING:tensorflow:6 out of the last 6 calls to <function Model.make_predict_function.<locals>.predict_function at 0x7fd0b40ec830> triggered tf.function retracing. Tracing is expensive and the excessive number of tracings could be due to (1) creating @tf.function repeatedly in a loop, (2) passing tensors with different shapes, (3) passing Python objects instead of tensors. For (1), please define your @tf.function outside of the loop. For (2), @tf.function has experimental_relax_shapes=True option that relaxes argument shapes that can avoid unnecessary retracing. For (3), please refer to https://www.tensorflow.org/guide/function#controlling_retracing and https://www.tensorflow.org/api_docs/python/tf/function for  more details.\n"
          ],
          "name": "stdout"
        },
        {
          "output_type": "stream",
          "text": [
            "WARNING:tensorflow:6 out of the last 6 calls to <function Model.make_predict_function.<locals>.predict_function at 0x7fd0b40ec830> triggered tf.function retracing. Tracing is expensive and the excessive number of tracings could be due to (1) creating @tf.function repeatedly in a loop, (2) passing tensors with different shapes, (3) passing Python objects instead of tensors. For (1), please define your @tf.function outside of the loop. For (2), @tf.function has experimental_relax_shapes=True option that relaxes argument shapes that can avoid unnecessary retracing. For (3), please refer to https://www.tensorflow.org/guide/function#controlling_retracing and https://www.tensorflow.org/api_docs/python/tf/function for  more details.\n"
          ],
          "name": "stderr"
        },
        {
          "output_type": "execute_result",
          "data": {
            "text/plain": [
              "(8, 10)"
            ]
          },
          "metadata": {
            "tags": []
          },
          "execution_count": 21
        }
      ]
    },
    {
      "cell_type": "markdown",
      "metadata": {
        "id": "FXJMRckvqD5k"
      },
      "source": [
        "実装時、勾配クリッピングを行うには、Optimizerの引数に、クリッピングの指定を行う。"
      ]
    },
    {
      "cell_type": "code",
      "metadata": {
        "colab": {
          "base_uri": "https://localhost:8080/"
        },
        "id": "iMx2PNhSbMxk",
        "outputId": "a85e1209-0e26-4522-9019-fb68359f9db3"
      },
      "source": [
        "model_5.compile(\n",
        "    loss=tf.keras.losses.SparseCategoricalCrossentropy(),\n",
        "    optimizer=tf.keras.optimizers.Adam(clipvalue=0.5),\n",
        "    metrics=['accuracy']\n",
        ")\n",
        "\n",
        "model_5.fit(\n",
        "    dataset_prep_train,\n",
        "    validation_data=dataset_prep_valid,\n",
        ")"
      ],
      "execution_count": 22,
      "outputs": [
        {
          "output_type": "stream",
          "text": [
            "219/219 [==============================] - 8s 31ms/step - loss: 2.3440 - accuracy: 0.1086 - val_loss: 2.2956 - val_accuracy: 0.1200\n"
          ],
          "name": "stdout"
        },
        {
          "output_type": "execute_result",
          "data": {
            "text/plain": [
              "<tensorflow.python.keras.callbacks.History at 0x7fd07a302990>"
            ]
          },
          "metadata": {
            "tags": []
          },
          "execution_count": 22
        }
      ]
    }
  ]
}