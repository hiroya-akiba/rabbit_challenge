{
 "cells": [
  {
   "cell_type": "markdown",
   "metadata": {
    "id": "fVeDkojeoIdT"
   },
   "source": [
    "## モジュールの準備"
   ]
  },
  {
   "cell_type": "code",
   "execution_count": null,
   "metadata": {
    "id": "to-y1eDjeaax"
   },
   "outputs": [],
   "source": [
    "# spacy/ginza\n",
    "!pip install ginza\n",
    "!pip install ja-ginza\n",
    "# ginzaのためのパッケージリソース一覧をリロード\n",
    "# https://www.mojirca.com/2019/10/colab-load-ginza.html\n",
    "import pkg_resources, imp\n",
    "imp.reload(pkg_resources)\n",
    "\n"
   ]
  },
  {
   "cell_type": "markdown",
   "metadata": {
    "id": "QKOsY_ojoNer"
   },
   "source": [
    "## 単語ベクトルの確認"
   ]
  },
  {
   "cell_type": "code",
   "execution_count": null,
   "metadata": {
    "id": "afVsNM2jeeDj"
   },
   "outputs": [],
   "source": [
    "import spacy\n",
    "import pandas as pd\n",
    "\n",
    "pd.set_option('max_colwidth', 100)\n",
    "\n",
    "nlp = spacy.load('ja_ginza')\n",
    "sentence = '私は焼肉をよく食べる'\n",
    "doc = nlp(sentence)\n",
    "tokens = []\n",
    "vectors = []\n",
    "for token in doc:\n",
    "    tokens.append(token)\n",
    "    vectors.append(token.vector)\n",
    "\n",
    "pd.DataFrame({\n",
    "    'token': tokens,\n",
    "    'vector': vectors\n",
    "})"
   ]
  },
  {
   "cell_type": "code",
   "execution_count": null,
   "metadata": {
    "id": "LWG4ORdugiCa"
   },
   "outputs": [],
   "source": [
    "vectors[0].shape"
   ]
  },
  {
   "cell_type": "markdown",
   "metadata": {
    "id": "aY8aE6x1oRYW"
   },
   "source": [
    "## データの準備"
   ]
  },
  {
   "cell_type": "code",
   "execution_count": null,
   "metadata": {
    "id": "FXuHjH6_ovc5"
   },
   "outputs": [],
   "source": [
    "!mkdir data\n",
    "!wget http://nlp.ist.i.kyoto-u.ac.jp/kuntt/KNBC_v1.0_090925_utf8.tar.bz2 -O data/KNBC_v1.0_090925_utf8.tar.bz2"
   ]
  },
  {
   "cell_type": "code",
   "execution_count": null,
   "metadata": {
    "id": "gmPQ7kRNox_o"
   },
   "outputs": [],
   "source": [
    "%cd data\n",
    "!tar xvf KNBC_v1.0_090925_utf8.tar.bz2\n",
    "%cd .."
   ]
  },
  {
   "cell_type": "code",
   "execution_count": null,
   "metadata": {
    "id": "2VznnAiNo0At"
   },
   "outputs": [],
   "source": [
    "import re\n",
    "import pandas as pd\n",
    "import numpy as np\n",
    "\n",
    "def get_sentences_from_text(filename):\n",
    "  sentences = []\n",
    "  with open(filename, 'r') as f:\n",
    "    for i, line in enumerate(f):\n",
    "      sentence = line.split('\\t')[1].strip()\n",
    "      if sentence == '': # 空文字を除去。\n",
    "        continue\n",
    "      if re.match('^http.*$', sentence): # URLを除去。\n",
    "        continue\n",
    "      sentences.append(sentence)\n",
    "  return sentences"
   ]
  },
  {
   "cell_type": "code",
   "execution_count": null,
   "metadata": {
    "id": "KhP6PaUxo2BT"
   },
   "outputs": [],
   "source": [
    "import os\n",
    "\n",
    "root_dir = 'data/KNBC_v1.0_090925_utf8/corpus2'\n",
    "targets = ['Gourmet', 'Keitai', 'Kyoto', 'Sports']\n",
    "\n",
    "original_data = []\n",
    "for target in targets:\n",
    "  filename = os.path.join(root_dir, f'{target}.tsv')\n",
    "  sentences = get_sentences_from_text(filename)\n",
    "  for sentence in sentences:\n",
    "    original_data.append([target, sentence])\n",
    "\n",
    "original_df = pd.DataFrame(original_data, columns=['target', 'sentence'])"
   ]
  },
  {
   "cell_type": "code",
   "execution_count": null,
   "metadata": {
    "id": "SZBRz3YIo4No"
   },
   "outputs": [],
   "source": [
    "display(original_df.head())\n",
    "display(original_df.tail())\n",
    "display(pd.DataFrame(original_df['target'].value_counts()))"
   ]
  },
  {
   "cell_type": "markdown",
   "metadata": {
    "id": "wuZPQq9Ioo0l"
   },
   "source": [
    "## LSTMによる分類タスク"
   ]
  },
  {
   "cell_type": "markdown",
   "metadata": {
    "id": "JoVfe5ccpUDU"
   },
   "source": [
    "### トレーニング用データに変換"
   ]
  },
  {
   "cell_type": "code",
   "execution_count": null,
   "metadata": {
    "id": "MfRv3hAGpS-Z"
   },
   "outputs": [],
   "source": [
    "import spacy\n",
    "import numpy as np\n",
    "\n",
    "nlp = spacy.load('ja_ginza')\n",
    "target2index = pd.get_dummies(targets)\n",
    "\n",
    "def get_features_and_labels_for_spacy(original_df):\n",
    "  features = []\n",
    "  labels = []\n",
    "  max_feature_len = 0\n",
    "  for i, original in enumerate(original_df.iterrows()):\n",
    "    sentence = original[1]['sentence']\n",
    "    target = original[1]['target']\n",
    "\n",
    "    doc = nlp(sentence)\n",
    "    feature = [token.vector for token in doc]\n",
    "    max_feature_len = max(max_feature_len, len(feature))\n",
    "    label = target2index[target].values\n",
    "\n",
    "    features.append(feature)\n",
    "    labels.append(label)\n",
    "\n",
    "  return np.asarray(features), np.asarray(labels), max_feature_len"
   ]
  },
  {
   "cell_type": "code",
   "execution_count": null,
   "metadata": {
    "id": "PKNH8tJipbuH"
   },
   "outputs": [],
   "source": [
    "from sklearn.model_selection import train_test_split\n",
    "\n",
    "features, labels, max_feature_len = get_features_and_labels_for_spacy(original_df)\n",
    "print(max_feature_len)"
   ]
  },
  {
   "cell_type": "code",
   "execution_count": null,
   "metadata": {
    "id": "9lCcup_8pdO3"
   },
   "outputs": [],
   "source": [
    "from tensorflow.keras.preprocessing.sequence import pad_sequences\n",
    "\n",
    "features = pad_sequences(features, maxlen=max_feature_len, dtype='float32') # dtypeの指定を忘れるとひどいことになるので注意。\n",
    "(train_features, test_features, train_labels, test_labels) = train_test_split(features, labels, test_size=0.2)\n",
    "\n",
    "print(train_features.shape)\n",
    "print(train_labels.shape)\n",
    "print(test_features.shape)\n",
    "print(test_labels.shape)"
   ]
  },
  {
   "cell_type": "markdown",
   "metadata": {
    "id": "E1vyOES8pGi9"
   },
   "source": [
    "### モデル構築"
   ]
  },
  {
   "cell_type": "code",
   "execution_count": null,
   "metadata": {
    "id": "l165ioI3pIXI"
   },
   "outputs": [],
   "source": [
    "from tensorflow.keras.layers import Input, LSTM, Dense\n",
    "from tensorflow.keras.models import Model\n",
    "\n",
    "inputs = Input(shape=(max_feature_len, train_features.shape[2]))\n",
    "x = LSTM(64)(inputs)\n",
    "outputs = Dense(len(targets), activation='softmax')(x)\n",
    "model = Model(inputs=inputs, outputs=outputs)\n",
    "model.compile(optimizer='adam',\n",
    "              loss='categorical_crossentropy',\n",
    "              metrics=['accuracy', 'mse'])\n",
    "model.summary()"
   ]
  },
  {
   "cell_type": "markdown",
   "metadata": {
    "id": "x2Fa3AOrp1BT"
   },
   "source": [
    "### トレーニング実行"
   ]
  },
  {
   "cell_type": "code",
   "execution_count": null,
   "metadata": {
    "id": "aRGQtih7p0Xe"
   },
   "outputs": [],
   "source": [
    "model.fit(train_features, train_labels, validation_split=0.1, verbose=1, epochs=3)"
   ]
  },
  {
   "cell_type": "markdown",
   "metadata": {
    "id": "1F3pxzhyqQDC"
   },
   "source": [
    "### クラシフィケーションレポート"
   ]
  },
  {
   "cell_type": "code",
   "execution_count": null,
   "metadata": {
    "id": "VBU_Q9iAqMGb"
   },
   "outputs": [],
   "source": [
    "from sklearn.metrics import classification_report, confusion_matrix\n",
    "\n",
    "predicted_test_labels = model.predict(test_features).argmax(axis=1)\n",
    "numeric_test_labels = test_labels.argmax(axis=1)\n",
    "\n",
    "report = classification_report(numeric_test_labels, predicted_test_labels, target_names=targets, output_dict=True)\n",
    "\n",
    "display(pd.DataFrame(report).T)"
   ]
  },
  {
   "cell_type": "markdown",
   "metadata": {
    "id": "9onvYuvxqYo0"
   },
   "source": [
    "### 手動で評価"
   ]
  },
  {
   "cell_type": "code",
   "execution_count": null,
   "metadata": {
    "id": "PcY8nkGkqavA"
   },
   "outputs": [],
   "source": [
    "check_data = ('Kyoto', '金閣寺が見たいです。') # targetは何でも構いません。\n",
    "\n",
    "check_df = pd.DataFrame([check_data], columns=['target', 'sentence'])\n",
    "check_features = get_features_and_labels_for_spacy(check_df)[0]\n",
    "check_features = pad_sequences(check_features, maxlen=max_feature_len, dtype='float32')\n",
    "check_predict = model.predict(check_features)[0]\n",
    "\n",
    "print(f'{targets[check_predict.argmax()]}: {round(check_predict[check_predict.argmax()] * 100, 1)}%')"
   ]
  },
  {
   "cell_type": "markdown",
   "metadata": {
    "id": "i1SuWTEVuaPv"
   },
   "source": [
    "## LSTMによる自然言語生成"
   ]
  },
  {
   "cell_type": "markdown",
   "metadata": {
    "id": "gzedBp5eMTSi"
   },
   "source": [
    "### トレーニング用データに変換"
   ]
  },
  {
   "cell_type": "code",
   "execution_count": null,
   "metadata": {
    "id": "Iz0WEQ-NzI7I"
   },
   "outputs": [],
   "source": [
    "input_len = 8\n",
    "\n",
    "def get_features_and_labels_for_nlg(original_df):\n",
    "    features = []\n",
    "    labels = []\n",
    "    for sentence in original_df['sentence']:\n",
    "        doc = nlp(sentence)\n",
    "        if len(doc) <= input_len:\n",
    "            continue\n",
    "        for i in range(len(doc)) :\n",
    "            if (i + input_len) >= len(doc):\n",
    "                break\n",
    "            feature = [token.vector for token in doc[i:i + input_len]]\n",
    "            label = doc[i + input_len]\n",
    "\n",
    "            features.append(feature)\n",
    "            labels.append(label.text)\n",
    "    \n",
    "    return np.array(features), labels"
   ]
  },
  {
   "cell_type": "code",
   "execution_count": null,
   "metadata": {
    "id": "JaWO25Yv2Kbl"
   },
   "outputs": [],
   "source": [
    "features, labels = get_features_and_labels_for_nlg(original_df)"
   ]
  },
  {
   "cell_type": "code",
   "execution_count": null,
   "metadata": {
    "id": "rS_WjHAd7bO6"
   },
   "outputs": [],
   "source": [
    "token2index = {label: i for i, label in enumerate(set(labels))}\n",
    "index2token = {i: token for token, i in token2index.items()}"
   ]
  },
  {
   "cell_type": "code",
   "execution_count": null,
   "metadata": {
    "id": "LzrwUbI57GfM"
   },
   "outputs": [],
   "source": [
    "from tensorflow.keras.utils import to_categorical\n",
    "\n",
    "onehot_labels = to_categorical([token2index[label] for label in labels])"
   ]
  },
  {
   "cell_type": "markdown",
   "metadata": {
    "id": "fmzAtda2MXDH"
   },
   "source": [
    "### モデル構築"
   ]
  },
  {
   "cell_type": "code",
   "execution_count": null,
   "metadata": {
    "id": "QgC0oQUU2OhK"
   },
   "outputs": [],
   "source": [
    "from tensorflow.keras.layers import Input, LSTM, Dense, Bidirectional, Dropout\n",
    "from tensorflow.keras.models import Model\n",
    "\n",
    "inputs = Input(shape=(features.shape[1], features.shape[2]))\n",
    "x = Bidirectional(LSTM(256))(inputs)\n",
    "x = Dropout(0.1)(x)\n",
    "outputs = Dense(onehot_labels.shape[1], activation='softmax')(x)\n",
    "model = Model(inputs=inputs, outputs=outputs)\n",
    "model.compile(optimizer='adam',\n",
    "              loss='categorical_crossentropy',\n",
    "              metrics=['accuracy', 'mse'])\n",
    "model.summary()"
   ]
  },
  {
   "cell_type": "markdown",
   "metadata": {
    "id": "j4F--DiuMZBP"
   },
   "source": [
    "### トレーニング実行"
   ]
  },
  {
   "cell_type": "code",
   "execution_count": null,
   "metadata": {
    "id": "Zoo1qFlT2qeP"
   },
   "outputs": [],
   "source": [
    "model.fit(features, onehot_labels, validation_split=0.1, verbose=1, epochs=10)"
   ]
  },
  {
   "cell_type": "markdown",
   "metadata": {
    "id": "Nt4C4nyQMdCx"
   },
   "source": [
    "### 実験"
   ]
  },
  {
   "cell_type": "code",
   "execution_count": null,
   "metadata": {
    "id": "f_BGcb5OGmbF"
   },
   "outputs": [],
   "source": [
    "def sample_with_temp(preds, temperature=1.0):\n",
    "    preds = np.asarray(preds).astype('float64')\n",
    "    preds = np.log(preds) / temperature\n",
    "    exp_preds = np.exp(preds)\n",
    "    preds = exp_preds / np.sum(exp_preds)\n",
    "    probs = np.random.multinomial(1, preds, 1)\n",
    "    \n",
    "    return np.argmax(probs)"
   ]
  },
  {
   "cell_type": "code",
   "execution_count": null,
   "metadata": {
    "id": "bOUUlaoI22T4"
   },
   "outputs": [],
   "source": [
    "seq = 20\n",
    "test_sentence = 'この季節には京都に行って'\n",
    "display_sentence = test_sentence\n",
    "\n",
    "for i in range(seq):\n",
    "    test_doc = nlp(test_sentence)[-input_len:]\n",
    "    test_features = np.array([[token.vector for token in test_doc]])\n",
    "    preds = model.predict(test_features)\n",
    "    max_index = sample_with_temp(preds[0], 0.3)\n",
    "    next_token = index2token[max_index]\n",
    "    test_sentence += next_token\n",
    "    display_sentence = display_sentence + '|' + next_token\n",
    "    if next_token == '。':\n",
    "        break\n",
    "\n",
    "print(display_sentence)"
   ]
  },
  {
   "cell_type": "code",
   "execution_count": null,
   "metadata": {
    "id": "63_9WwJiP2qk"
   },
   "outputs": [],
   "source": []
  }
 ],
 "metadata": {
  "accelerator": "GPU",
  "colab": {
   "collapsed_sections": [],
   "name": "3_14_nlp-basic.ipynb",
   "provenance": []
  },
  "kernelspec": {
   "display_name": "Python 3 (ipykernel)",
   "language": "python",
   "name": "python3"
  },
  "language_info": {
   "codemirror_mode": {
    "name": "ipython",
    "version": 3
   },
   "file_extension": ".py",
   "mimetype": "text/x-python",
   "name": "python",
   "nbconvert_exporter": "python",
   "pygments_lexer": "ipython3",
   "version": "3.7.9"
  }
 },
 "nbformat": 4,
 "nbformat_minor": 1
}
