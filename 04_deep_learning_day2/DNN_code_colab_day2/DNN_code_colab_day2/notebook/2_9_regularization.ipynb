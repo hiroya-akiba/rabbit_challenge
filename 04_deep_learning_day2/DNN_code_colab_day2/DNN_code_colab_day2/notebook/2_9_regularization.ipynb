{
  "nbformat": 4,
  "nbformat_minor": 2,
  "metadata": {
    "colab": {
      "name": "regularization.ipynb",
      "provenance": [],
      "collapsed_sections": []
    },
    "kernelspec": {
      "name": "python3",
      "display_name": "Python 3"
    },
    "language_info": {
      "name": "python"
    },
    "accelerator": "GPU"
  },
  "cells": [
    {
      "cell_type": "markdown",
      "source": [
        "# モジュールのロード"
      ],
      "metadata": {
        "id": "k-h2gD-9nYDS"
      }
    },
    {
      "cell_type": "code",
      "execution_count": null,
      "source": [
        "import tensorflow as tf\r\n",
        "import numpy as np"
      ],
      "outputs": [],
      "metadata": {
        "id": "tRw72shtZd5n"
      }
    },
    {
      "cell_type": "markdown",
      "source": [
        "# データのロード"
      ],
      "metadata": {
        "id": "xBzwYKDlndK0"
      }
    },
    {
      "cell_type": "code",
      "execution_count": null,
      "source": [
        "(x_train, y_train), (x_test, y_test) = tf.keras.datasets.cifar10.load_data()\r\n",
        "\r\n",
        "x_train = x_train / 255\r\n",
        "x_test = x_test / 255\r\n",
        "y_train = tf.one_hot(y_train.reshape(len(y_train)), depth=10)\r\n",
        "y_test = tf.one_hot(y_test.reshape(len(y_test)), depth=10)\r\n",
        "\r\n",
        "print(x_train.shape)\r\n",
        "print(y_train.shape)\r\n",
        "print(x_test.shape)\r\n",
        "print(y_test.shape)"
      ],
      "outputs": [],
      "metadata": {
        "colab": {
          "base_uri": "https://localhost:8080/"
        },
        "id": "tbHfA0DpZvFS",
        "outputId": "62a489e8-2fef-4b11-cea6-80bb61ee3248"
      }
    },
    {
      "cell_type": "code",
      "execution_count": null,
      "source": [
        "index2label = {\r\n",
        "    0: 'airplane',\r\n",
        "    1: 'automobile',\r\n",
        "    2: 'bird',\r\n",
        "    3: 'cat',\r\n",
        "    4: 'deer',\r\n",
        "    5: 'dog',\r\n",
        "    6: 'frog',\r\n",
        "    7: 'horse',\r\n",
        "    8: 'ship',\r\n",
        "    9: 'truck'\r\n",
        "}"
      ],
      "outputs": [],
      "metadata": {
        "id": "jQyfey6LaTly"
      }
    },
    {
      "cell_type": "code",
      "execution_count": null,
      "source": [
        "import matplotlib.pyplot as plt\r\n",
        "import random\r\n",
        "\r\n",
        "index = 0\r\n",
        "count = 50\r\n",
        "\r\n",
        "plt.figure(figsize=(16, 10))\r\n",
        "\r\n",
        "for i, img in enumerate(x_test[index:index+count]):\r\n",
        "    plt.subplot(5, 10, i + 1)\r\n",
        "    plt.imshow(img)\r\n",
        "    plt.axis('off')\r\n",
        "    plt.title(index2label[np.argmax(y_test[i])])\r\n",
        "\r\n",
        "plt.show()"
      ],
      "outputs": [],
      "metadata": {
        "colab": {
          "base_uri": "https://localhost:8080/",
          "height": 572
        },
        "id": "zP-lGj6SbLz9",
        "outputId": "a8f98715-4926-4d88-b8ad-fc3c51b10f00"
      }
    },
    {
      "cell_type": "markdown",
      "source": [
        "# ベースモデルでの実行(正則化なし)"
      ],
      "metadata": {
        "id": "NBAVadhKnhlG"
      }
    },
    {
      "cell_type": "code",
      "execution_count": null,
      "source": [
        "epochs = 5\r\n",
        "batch_size = 256"
      ],
      "outputs": [],
      "metadata": {
        "id": "DNdP6Y4Zn3Hz"
      }
    },
    {
      "cell_type": "code",
      "execution_count": null,
      "source": [
        "def create_model(input_shape, class_num):\r\n",
        "    model = tf.keras.models.Sequential([\r\n",
        "        tf.keras.layers.Conv2D(32, 3, padding='same', input_shape=input_shape[1:], activation='relu'),\r\n",
        "        tf.keras.layers.Conv2D(32, 3, activation='relu'),\r\n",
        "        tf.keras.layers.MaxPooling2D(),\r\n",
        "        tf.keras.layers.Flatten(),\r\n",
        "        tf.keras.layers.Dense(512, activation='relu'),\r\n",
        "        tf.keras.layers.Dense(class_num, activation='softmax'),\r\n",
        "    ])\r\n",
        "\r\n",
        "    model.compile(optimizer='adam', loss='categorical_crossentropy', metrics=['acc'])\r\n",
        "\r\n",
        "    return model"
      ],
      "outputs": [],
      "metadata": {
        "id": "rBOX5DnsnoTv"
      }
    },
    {
      "cell_type": "code",
      "execution_count": null,
      "source": [
        "model = create_model(x_train.shape, 10)\r\n",
        "model.summary()"
      ],
      "outputs": [],
      "metadata": {
        "colab": {
          "base_uri": "https://localhost:8080/"
        },
        "id": "wT3YgzQEnsE3",
        "outputId": "7e41d0cd-0c6b-4adb-ba9c-a835040b652f"
      }
    },
    {
      "cell_type": "code",
      "execution_count": null,
      "source": [
        "history = model.fit(x_train, y_train, \r\n",
        "                    validation_data=(x_test, y_test),\r\n",
        "                    batch_size=batch_size, epochs=epochs)"
      ],
      "outputs": [],
      "metadata": {
        "colab": {
          "base_uri": "https://localhost:8080/"
        },
        "id": "cA4aHYTYo7GS",
        "outputId": "a780c459-7c91-4358-d92b-16077894d647"
      }
    },
    {
      "cell_type": "markdown",
      "source": [
        "# 正則化あり"
      ],
      "metadata": {
        "id": "sTWsRKKyojJ2"
      }
    },
    {
      "cell_type": "markdown",
      "source": [
        "## L1正則化の実行例\r\n",
        "\r\n",
        "出力直前の全結合層においてL1正則化を適用した場合の例です。"
      ],
      "metadata": {
        "id": "TZpRAH1Aon8O"
      }
    },
    {
      "cell_type": "code",
      "execution_count": null,
      "source": [
        "def create_model(input_shape, class_num):\r\n",
        "    model = tf.keras.models.Sequential([\r\n",
        "        tf.keras.layers.Conv2D(32, 3, padding='same', input_shape=input_shape[1:], activation='relu'),\r\n",
        "        tf.keras.layers.Conv2D(32, 3, activation='relu'),\r\n",
        "        tf.keras.layers.MaxPooling2D(),\r\n",
        "        tf.keras.layers.Flatten(),\r\n",
        "        tf.keras.layers.Dense(512, activation='relu', activity_regularizer=tf.keras.regularizers.L1(0.01)),\r\n",
        "        tf.keras.layers.Dense(class_num, activation='softmax'),\r\n",
        "    ])\r\n",
        "\r\n",
        "    model.compile(optimizer='adam', loss='categorical_crossentropy', metrics=['acc'])\r\n",
        "\r\n",
        "    return model"
      ],
      "outputs": [],
      "metadata": {
        "id": "q5mLezULpC_B"
      }
    },
    {
      "cell_type": "code",
      "execution_count": null,
      "source": [
        "model = create_model(x_train.shape, 10)\r\n",
        "model.summary()"
      ],
      "outputs": [],
      "metadata": {
        "colab": {
          "base_uri": "https://localhost:8080/"
        },
        "id": "JgDV2DoQqkW2",
        "outputId": "2856300a-1795-4137-cc0e-11033405b724"
      }
    },
    {
      "cell_type": "code",
      "execution_count": null,
      "source": [
        "history = model.fit(x_train, y_train, \r\n",
        "                    validation_data=(x_test, y_test),\r\n",
        "                    batch_size=batch_size, epochs=epochs)"
      ],
      "outputs": [],
      "metadata": {
        "colab": {
          "base_uri": "https://localhost:8080/"
        },
        "id": "jlRiN_FnpEtu",
        "outputId": "9802e629-4efb-4077-c1d6-ccc7263da00c"
      }
    },
    {
      "cell_type": "markdown",
      "source": [
        "## L2正則化の実行例\r\n",
        "\r\n",
        "出力直前の全結合層においてL2正則化を適用した場合の例です。"
      ],
      "metadata": {
        "id": "maTrIF-PorRm"
      }
    },
    {
      "cell_type": "code",
      "execution_count": null,
      "source": [
        "def create_model(input_shape, class_num):\r\n",
        "    model = tf.keras.models.Sequential([\r\n",
        "        tf.keras.layers.Conv2D(32, 3, padding='same', input_shape=input_shape[1:], activation='relu'),\r\n",
        "        tf.keras.layers.Conv2D(32, 3, activation='relu'),\r\n",
        "        tf.keras.layers.MaxPooling2D(),\r\n",
        "        tf.keras.layers.Flatten(),\r\n",
        "        tf.keras.layers.Dense(512, activation='relu', activity_regularizer=tf.keras.regularizers.L2(0.01)),\r\n",
        "        tf.keras.layers.Dense(class_num, activation='softmax'),\r\n",
        "    ])\r\n",
        "\r\n",
        "    model.compile(optimizer='adam', loss='categorical_crossentropy', metrics=['acc'])\r\n",
        "\r\n",
        "    return model"
      ],
      "outputs": [],
      "metadata": {
        "id": "ym60a6kdpZ0c"
      }
    },
    {
      "cell_type": "code",
      "execution_count": null,
      "source": [
        "model = create_model(x_train.shape, 10)\r\n",
        "model.summary()"
      ],
      "outputs": [],
      "metadata": {
        "colab": {
          "base_uri": "https://localhost:8080/"
        },
        "id": "cj6Ql1k7qleK",
        "outputId": "c95cd8cb-aa60-4401-a511-082292c065ee"
      }
    },
    {
      "cell_type": "code",
      "execution_count": null,
      "source": [
        "history = model.fit(x_train, y_train, \r\n",
        "                    validation_data=(x_test, y_test),\r\n",
        "                    batch_size=batch_size, epochs=epochs)"
      ],
      "outputs": [],
      "metadata": {
        "colab": {
          "base_uri": "https://localhost:8080/"
        },
        "id": "XUZM6RzApZ5U",
        "outputId": "647ac03c-41a4-4ba8-9884-c73789a5d696"
      }
    },
    {
      "cell_type": "markdown",
      "source": [
        "## Elasti Netの実行例"
      ],
      "metadata": {
        "id": "mDqGXRm6otKp"
      }
    },
    {
      "cell_type": "code",
      "execution_count": null,
      "source": [
        "def create_model(input_shape, class_num):\r\n",
        "    model = tf.keras.models.Sequential([\r\n",
        "        tf.keras.layers.Conv2D(32, 3, padding='same', input_shape=input_shape[1:], activation='relu'),\r\n",
        "        tf.keras.layers.Conv2D(32, 3, activation='relu'),\r\n",
        "        tf.keras.layers.MaxPooling2D(),\r\n",
        "        tf.keras.layers.Flatten(),\r\n",
        "        tf.keras.layers.Dense(512, activation='relu', activity_regularizer=tf.keras.regularizers.L1L2(0.01)),\r\n",
        "        tf.keras.layers.Dense(class_num, activation='softmax'),\r\n",
        "    ])\r\n",
        "\r\n",
        "    model.compile(optimizer='adam', loss='categorical_crossentropy', metrics=['acc'])\r\n",
        "\r\n",
        "    return model"
      ],
      "outputs": [],
      "metadata": {
        "id": "xaHqFTqCpgol"
      }
    },
    {
      "cell_type": "code",
      "execution_count": null,
      "source": [
        "model = create_model(x_train.shape, 10)\r\n",
        "model.summary()"
      ],
      "outputs": [],
      "metadata": {
        "colab": {
          "base_uri": "https://localhost:8080/"
        },
        "id": "s6zovcvNqmYV",
        "outputId": "9d9554c1-725d-453f-c347-7267f0705e91"
      }
    },
    {
      "cell_type": "code",
      "execution_count": null,
      "source": [
        "history = model.fit(x_train, y_train, \r\n",
        "                    validation_data=(x_test, y_test),\r\n",
        "                    batch_size=batch_size, epochs=epochs)"
      ],
      "outputs": [],
      "metadata": {
        "colab": {
          "base_uri": "https://localhost:8080/"
        },
        "id": "yOLFsRdgpgyT",
        "outputId": "b629d0ca-ead3-423b-898f-3f3e5beb49ae"
      }
    },
    {
      "cell_type": "markdown",
      "source": [
        "# 各正則化手法の比較\r\n",
        "\r\n",
        "L1、L2、ElastiNetをぞれぞれ適用した場合の比較です。"
      ],
      "metadata": {
        "id": "a8KzCSY2oxZc"
      }
    },
    {
      "cell_type": "code",
      "execution_count": null,
      "source": [
        "def create_model(input_shape, class_num, regularization_method, regularization_method_weight=0.01):\r\n",
        "    model = tf.keras.models.Sequential([\r\n",
        "        tf.keras.layers.Conv2D(32, 3, padding='same', input_shape=input_shape[1:], activation='relu'),\r\n",
        "        tf.keras.layers.Conv2D(32, 3, activation='relu'),\r\n",
        "        tf.keras.layers.MaxPooling2D(),\r\n",
        "        tf.keras.layers.Flatten(),\r\n",
        "        tf.keras.layers.Dense(512, activation='relu',\r\n",
        "                              activity_regularizer=regularization_method(regularization_method_weight)) if regularization_method else tf.keras.layers.Dense(512, activation='relu'),\r\n",
        "        tf.keras.layers.Dense(class_num, activation='softmax'),\r\n",
        "    ])\r\n",
        "\r\n",
        "    model.compile(optimizer='adam', loss='categorical_crossentropy', metrics=['acc'])\r\n",
        "\r\n",
        "    return model"
      ],
      "outputs": [],
      "metadata": {
        "id": "fFw90gexb2w-"
      }
    },
    {
      "cell_type": "code",
      "execution_count": null,
      "source": [
        "epochs = 10\r\n",
        "batch_size = 256\r\n",
        "\r\n",
        "regularizers = [\r\n",
        "                None,\r\n",
        "                tf.keras.regularizers.L1,\r\n",
        "                tf.keras.regularizers.L2,\r\n",
        "                tf.keras.regularizers.L1L2\r\n",
        "]\r\n",
        "\r\n",
        "tf.random.set_seed(0) # 再現性を高めるために乱数シードを固定しています。\r\n",
        "histories = []\r\n",
        "for regularizer in regularizers:\r\n",
        "    model = create_model(x_train.shape, 10, regularizer)\r\n",
        "\r\n",
        "    history = model.fit(x_train, y_train, \r\n",
        "                    validation_data=(x_test, y_test),\r\n",
        "                    batch_size=batch_size, epochs=epochs)\r\n",
        "    histories.append(history)"
      ],
      "outputs": [],
      "metadata": {
        "colab": {
          "base_uri": "https://localhost:8080/"
        },
        "id": "6R9Ol6IpdfnT",
        "outputId": "7ff97ed7-9d8e-4dd6-85b4-7541d90782a3"
      }
    },
    {
      "cell_type": "code",
      "execution_count": null,
      "source": [
        "import pandas as pd\r\n",
        "import seaborn as sns\r\n",
        "\r\n",
        "fig = plt.figure(figsize=(10, 20))\r\n",
        "\r\n",
        "for i, history in enumerate(histories):\r\n",
        "    regularizer_name = str(regularizers[i])\r\n",
        "    ax = fig.add_subplot(4, 1, i + 1)\r\n",
        "    \r\n",
        "    plot_df = pd.DataFrame(history.history)[['loss', 'val_loss']]\r\n",
        "    sns.lineplot(data=plot_df, ax=ax)\r\n",
        "    ax.set_title(regularizer_name)"
      ],
      "outputs": [],
      "metadata": {
        "colab": {
          "base_uri": "https://localhost:8080/",
          "height": 1000
        },
        "id": "2s47Nsm5d_NM",
        "outputId": "773d5f01-bdbd-4be2-dc62-b2b828758ec2"
      }
    },
    {
      "cell_type": "code",
      "execution_count": null,
      "source": [],
      "outputs": [],
      "metadata": {
        "id": "uyTr8OqmiQVK"
      }
    }
  ]
}